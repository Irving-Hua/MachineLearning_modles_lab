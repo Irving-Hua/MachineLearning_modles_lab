{
 "cells": [
  {
   "cell_type": "markdown",
   "metadata": {},
   "source": [
    "# ENSE 496AD Machine Learning\n",
    "## Lab 0 - Introduction to Python and Data Science\n",
    "### Instructor: Adam Tilson\n",
    "### Date: Sept 16, 2020\n",
    "### Due: Sept 25, 2020. 2359. URCourses.\n",
    "\n",
    "# Assignment\n",
    "Please complete the following questions inline in the notebook. "
   ]
  },
  {
   "cell_type": "code",
   "execution_count": 101,
   "metadata": {},
   "outputs": [],
   "source": [
    "# canonical imports\n",
    "import numpy as np\n",
    "import pandas as pd\n",
    "import matplotlib.pyplot as plt\n",
    "%matplotlib inline\n"
   ]
  },
  {
   "cell_type": "markdown",
   "metadata": {},
   "source": [
    "## Part 1: Python Warmup"
   ]
  },
  {
   "cell_type": "markdown",
   "metadata": {},
   "source": [
    "1. Write a function with signature \"add (x, y)\" where x and y are numbers, which returns the sum of x and y. Use only one operation. [5]"
   ]
  },
  {
   "cell_type": "code",
   "execution_count": 12,
   "metadata": {},
   "outputs": [
    {
     "name": "stdout",
     "output_type": "stream",
     "text": [
      "8\n"
     ]
    }
   ],
   "source": [
    "def add (x, y):\n",
    "    pass\n",
    "    return x+y\n",
    "print(add(3,5))"
   ]
  },
  {
   "cell_type": "markdown",
   "metadata": {},
   "source": [
    "2. Consider the use of the add function from (1) on the following data types. What are the expected outcomes? Verify with python. [5]\n",
    "~~~~\n",
    "a) x = 3, b=7\n",
    "b) x = [1, 2, 3], y = [7, 6, 5]\n",
    "c) x = \"Hello\", y = \"World\"\n",
    "d) x = np.array([1, 2, 3], y = np.array([7, 6, 5])  **be sure to import numpy as np **\n",
    "e) x = (1, 4), y = (4, 7)\n",
    "~~~~"
   ]
  },
  {
   "cell_type": "code",
   "execution_count": 17,
   "metadata": {
    "tags": []
   },
   "outputs": [
    {
     "name": "stdout",
     "output_type": "stream",
     "text": [
      "10\n",
      "[1, 2, 3, 7, 6, 5]\n",
      "HelloWorld\n",
      "[8 8 8]\n",
      "(1, 4, 4, 7)\n"
     ]
    }
   ],
   "source": [
    "print(add(3,7))\n",
    "print(add([1,2,3],[7,6,5]))\n",
    "print(add(\"Hello\",\"World\"))\n",
    "print(add(np.array([1, 2, 3]), np.array([7, 6, 5])))\n",
    "print(add((1,4),(4,7)))"
   ]
  },
  {
   "cell_type": "markdown",
   "metadata": {},
   "source": [
    "3. Write a function called \"inspectArray(x)\" which takes a numpy array, x, and for that array prints the following: [10]\n",
    "    - The contents of the array\n",
    "    - The number of elements in the array\n",
    "    - The sum of the array\n",
    "    - The contents of the array, but each individual element is squared\n",
    "    - The contents of the array, but each individual element is doubled.\n",
    "\n",
    "Example output of the function is as shown, if supplied with np.array([6, 7, 4, 2, 6])\n",
    "~~~~\n",
    "[6 7 4 2 6] \n",
    "5 \n",
    "25 \n",
    "[36 49 16 4 36] \n",
    "[12 14 8 4 12]\n",
    "~~~~\n",
    "Hint: Each of these should only take one line. Review broadcasting in numpy."
   ]
  },
  {
   "cell_type": "code",
   "execution_count": 34,
   "metadata": {
    "tags": []
   },
   "outputs": [],
   "source": [
    "def inspectArray(x):\n",
    "    print(x)\n",
    "    print(len(x))\n",
    "    print(x.sum())\n",
    "    print(x *x)\n",
    "    print(x*2)\n",
    "    pass"
   ]
  },
  {
   "cell_type": "code",
   "execution_count": 35,
   "metadata": {},
   "outputs": [
    {
     "name": "stdout",
     "output_type": "stream",
     "text": [
      "[6 7 4 2 6]\n",
      "5\n",
      "25\n",
      "[36 49 16  4 36]\n",
      "[12 14  8  4 12]\n"
     ]
    }
   ],
   "source": [
    "#test code\n",
    "inspectArray(np.array([6,7,4,2,6]))"
   ]
  },
  {
   "cell_type": "markdown",
   "metadata": {},
   "source": [
    "4. Write a function called \"oddsOrEvens(l, s)\" where l is a list of numbers, and s is a string set to \"odd\" or \"even\". If s is set to \"odd\", return a list with only the odd numbers in the list. If s is set to \"even\", return a list with only the even numbers in the list. Ignore non-numbers in the list. [10]\n",
    "\n",
    "Example runs code:\n",
    "~~~~\n",
    "print (oddsOrEvens ([1,2,3,4,5,\"hi\",6,7,8,9,0], \"even\"))\n",
    "[2, 4, 6, 8, 0]\n",
    "print (oddsOrEvens ([1,2,3,4,5,\"hi\",6,7,8,9,0], \"odd\"))\n",
    "[1, 3, 5, 7, 9] \n",
    "~~~~"
   ]
  },
  {
   "cell_type": "code",
   "execution_count": 95,
   "metadata": {},
   "outputs": [],
   "source": [
    "def oddsOrEvens (l,s):\n",
    "    even = []\n",
    "    odd = []\n",
    "    cleaned =  [x for x in l if type(x) == int] #get rid od nonmuber in the list\n",
    "    for num in cleaned :\n",
    "        if int(num) %2 == 0:\n",
    "            even.append(num)      \n",
    "        elif int(num) %2 == 1:\n",
    "            odd.append(num)  \n",
    "    if s == \"even\":\n",
    "        return even\n",
    "    if s == \"odd\":\n",
    "        return odd\n",
    "    pass"
   ]
  },
  {
   "cell_type": "code",
   "execution_count": 96,
   "metadata": {
    "tags": []
   },
   "outputs": [
    {
     "name": "stdout",
     "output_type": "stream",
     "text": [
      "[2, 4, 6, 8, 0]\n",
      "[1, 3, 5, 7, 9]\n"
     ]
    }
   ],
   "source": [
    "#test code\n",
    "print (oddsOrEvens ([1,2,3,4,5,\"hi\",6,7,8,9,0], \"even\"))\n",
    "print (oddsOrEvens ([1,2,3,4,5,\"hi\",6,7,8,9,0], \"odd\"))"
   ]
  },
  {
   "cell_type": "markdown",
   "metadata": {},
   "source": [
    "## Part 2: Data Handling\n",
    "\n",
    "5. Use the provided \"weight-height.csv\" dataset, and complete the following tasks. [20]\n",
    "\n",
    "a) Load the dataset as a pandas dataframe."
   ]
  },
  {
   "cell_type": "code",
   "execution_count": 99,
   "metadata": {},
   "outputs": [],
   "source": [
    "dataframe =  pd.read_csv(\"weight-height.csv\")"
   ]
  },
  {
   "cell_type": "markdown",
   "metadata": {},
   "source": [
    "b) Inspect the dataset using the .info() and .head() functions. "
   ]
  },
  {
   "cell_type": "code",
   "execution_count": 100,
   "metadata": {},
   "outputs": [
    {
     "name": "stdout",
     "output_type": "stream",
     "text": [
      "<class 'pandas.core.frame.DataFrame'>\n",
      "RangeIndex: 10000 entries, 0 to 9999\n",
      "Data columns (total 3 columns):\n",
      " #   Column  Non-Null Count  Dtype  \n",
      "---  ------  --------------  -----  \n",
      " 0   Gender  10000 non-null  object \n",
      " 1   Height  10000 non-null  float64\n",
      " 2   Weight  10000 non-null  float64\n",
      "dtypes: float64(2), object(1)\n",
      "memory usage: 234.5+ KB\n"
     ]
    },
    {
     "data": {
      "text/html": [
       "<div>\n",
       "<style scoped>\n",
       "    .dataframe tbody tr th:only-of-type {\n",
       "        vertical-align: middle;\n",
       "    }\n",
       "\n",
       "    .dataframe tbody tr th {\n",
       "        vertical-align: top;\n",
       "    }\n",
       "\n",
       "    .dataframe thead th {\n",
       "        text-align: right;\n",
       "    }\n",
       "</style>\n",
       "<table border=\"1\" class=\"dataframe\">\n",
       "  <thead>\n",
       "    <tr style=\"text-align: right;\">\n",
       "      <th></th>\n",
       "      <th>Gender</th>\n",
       "      <th>Height</th>\n",
       "      <th>Weight</th>\n",
       "    </tr>\n",
       "  </thead>\n",
       "  <tbody>\n",
       "    <tr>\n",
       "      <th>0</th>\n",
       "      <td>Male</td>\n",
       "      <td>73.847017</td>\n",
       "      <td>241.893563</td>\n",
       "    </tr>\n",
       "    <tr>\n",
       "      <th>1</th>\n",
       "      <td>Male</td>\n",
       "      <td>68.781904</td>\n",
       "      <td>162.310473</td>\n",
       "    </tr>\n",
       "    <tr>\n",
       "      <th>2</th>\n",
       "      <td>Male</td>\n",
       "      <td>74.110105</td>\n",
       "      <td>212.740856</td>\n",
       "    </tr>\n",
       "    <tr>\n",
       "      <th>3</th>\n",
       "      <td>Male</td>\n",
       "      <td>71.730978</td>\n",
       "      <td>220.042470</td>\n",
       "    </tr>\n",
       "    <tr>\n",
       "      <th>4</th>\n",
       "      <td>Male</td>\n",
       "      <td>69.881796</td>\n",
       "      <td>206.349801</td>\n",
       "    </tr>\n",
       "  </tbody>\n",
       "</table>\n",
       "</div>"
      ],
      "text/plain": [
       "  Gender     Height      Weight\n",
       "0   Male  73.847017  241.893563\n",
       "1   Male  68.781904  162.310473\n",
       "2   Male  74.110105  212.740856\n",
       "3   Male  71.730978  220.042470\n",
       "4   Male  69.881796  206.349801"
      ]
     },
     "execution_count": 100,
     "metadata": {},
     "output_type": "execute_result"
    }
   ],
   "source": [
    "dataframe.info()\n",
    "dataframe.head()"
   ]
  },
  {
   "cell_type": "markdown",
   "metadata": {},
   "source": [
    "c) Using Pyplot, create a scatter plot with weight as a function of height. Example output\n",
    "![scatterplot](img/1.png)"
   ]
  },
  {
   "cell_type": "code",
   "execution_count": 102,
   "metadata": {},
   "outputs": [
    {
     "data": {
      "image/png": "[encoded data removed]",
      "text/plain": [
       "<Figure size 432x288 with 1 Axes>"
      ]
     },
     "metadata": {
      "needs_background": "light"
     },
     "output_type": "display_data"
    }
   ],
   "source": [
    "height = dataframe[\"Height\"]\n",
    "weight = dataframe[\"Weight\"]\n",
    "plt.scatter(height, weight)\n",
    "plt.title(\"Scatter Plot - Weight v Height\")\n",
    "plt.xlabel(\"Height\")\n",
    "plt.ylabel(\"Weight\")\n",
    "plt.show()"
   ]
  },
  {
   "cell_type": "markdown",
   "metadata": {},
   "source": [
    "d) Using information learned in (b), create two smaller dataframes, one for males and one for females."
   ]
  },
  {
   "cell_type": "code",
   "execution_count": 131,
   "metadata": {},
   "outputs": [
    {
     "data": {
      "text/plain": [
       "<bound method DataFrame.info of      Gender     Height      Weight\n",
       "0      Male  73.847017  241.893563\n",
       "1      Male  68.781904  162.310473\n",
       "2      Male  74.110105  212.740856\n",
       "3      Male  71.730978  220.042470\n",
       "4      Male  69.881796  206.349801\n",
       "...     ...        ...         ...\n",
       "4995   Male  68.860062  177.131052\n",
       "4996   Male  68.973423  159.285228\n",
       "4997   Male  67.013795  199.195400\n",
       "4998   Male  71.557718  185.905909\n",
       "4999   Male  70.351880  198.903012\n",
       "\n",
       "[5000 rows x 3 columns]>"
      ]
     },
     "execution_count": 131,
     "metadata": {},
     "output_type": "execute_result"
    }
   ],
   "source": [
    "males = dataframe[dataframe[\"Gender\"] == \"Male\"]\n",
    "females = dataframe[dataframe[\"Gender\"] == \"Female\"]\n",
    "males.info"
   ]
  },
  {
   "cell_type": "markdown",
   "metadata": {},
   "source": [
    "e) Plot a histogram of the heights for males and females on the same plot. Example output:\n",
    "![default histogram](img/2.png)"
   ]
  },
  {
   "cell_type": "code",
   "execution_count": 123,
   "metadata": {},
   "outputs": [
    {
     "data": {
      "image/png": "[encoded data removed]",
      "text/plain": [
       "<Figure size 432x288 with 1 Axes>"
      ]
     },
     "metadata": {
      "needs_background": "light"
     },
     "output_type": "display_data"
    }
   ],
   "source": [
    "plt.title(\"Histogram of Heights for Males and Females\")\n",
    "plt.xlabel(\"Height for males and females\")\n",
    "plt.ylabel(\"Frequency\")\n",
    "\n",
    "plt.hist(males[\"Height\"])\n",
    "plt.hist(females[\"Height\"])\n",
    "plt.show()"
   ]
  },
  {
   "cell_type": "markdown",
   "metadata": {},
   "source": [
    "f) Using color properties, make the female dataset blue and the male dataset red. \n",
    "\n",
    "g)Using alpha, control the transparency of the plot to easily identify the overlapping region.\n",
    "\n",
    "h) Plot a vertical line at the mean of each population using plt.axvline()\n",
    "example output for f and g:\n",
    "![handsome histogram](img/3.png)"
   ]
  },
  {
   "cell_type": "code",
   "execution_count": 136,
   "metadata": {},
   "outputs": [
    {
     "data": {
      "text/plain": [
       "<matplotlib.lines.Line2D at 0x2102696f070>"
      ]
     },
     "execution_count": 136,
     "metadata": {},
     "output_type": "execute_result"
    },
    {
     "data": {
      "image/png": "[encoded data removed]",
      "text/plain": [
       "<Figure size 432x288 with 1 Axes>"
      ]
     },
     "metadata": {
      "needs_background": "light"
     },
     "output_type": "display_data"
    }
   ],
   "source": [
    "plt.title(\"Histogram of Heights for Males and Females\")\n",
    "plt.xlabel(\"Height for males and females\")\n",
    "plt.ylabel(\"Frequency\")\n",
    "plt.hist(males[\"Height\"], color = \"red\", alpha = 0.5)\n",
    "plt.hist(females[\"Height\"], color = \"blue\", alpha = 0.5)\n",
    "plt.axvline(males[\"Height\"].mean(),color = \"red\")\n",
    "plt.axvline(females[\"Height\"].mean(),color = \"blue\")\n"
   ]
  },
  {
   "cell_type": "markdown",
   "metadata": {},
   "source": [
    "## Part 3: Linear Regression\n",
    "\n",
    "The KC House Data dataset is real estate data for ~21,500 houses sold in Kings County. It can be used to train models to predict the price of houses based on the values of input features, such as the square foot living space.\n",
    "\n",
    "6. Using the kc_house_data.csv dataset, complete the following: [50]\n",
    "\n",
    "a) Load the KC House Data dataset into a pandas dataframe"
   ]
  },
  {
   "cell_type": "code",
   "execution_count": 138,
   "metadata": {},
   "outputs": [],
   "source": [
    "dataframe =  pd.read_csv(\"kc_house_data.csv\")"
   ]
  },
  {
   "cell_type": "markdown",
   "metadata": {},
   "source": [
    "b) Inspect the dataframe using the .info() and .head() function"
   ]
  },
  {
   "cell_type": "code",
   "execution_count": 139,
   "metadata": {},
   "outputs": [
    {
     "name": "stdout",
     "output_type": "stream",
     "text": [
      "<class 'pandas.core.frame.DataFrame'>\n",
      "RangeIndex: 21613 entries, 0 to 21612\n",
      "Data columns (total 21 columns):\n",
      " #   Column         Non-Null Count  Dtype  \n",
      "---  ------         --------------  -----  \n",
      " 0   id             21613 non-null  int64  \n",
      " 1   date           21613 non-null  object \n",
      " 2   price          21613 non-null  float64\n",
      " 3   bedrooms       21613 non-null  int64  \n",
      " 4   bathrooms      21613 non-null  float64\n",
      " 5   sqft_living    21613 non-null  int64  \n",
      " 6   sqft_lot       21613 non-null  int64  \n",
      " 7   floors         21613 non-null  float64\n",
      " 8   waterfront     21613 non-null  int64  \n",
      " 9   view           21613 non-null  int64  \n",
      " 10  condition      21613 non-null  int64  \n",
      " 11  grade          21613 non-null  int64  \n",
      " 12  sqft_above     21613 non-null  int64  \n",
      " 13  sqft_basement  21613 non-null  int64  \n",
      " 14  yr_built       21613 non-null  int64  \n",
      " 15  yr_renovated   21613 non-null  int64  \n",
      " 16  zipcode        21613 non-null  int64  \n",
      " 17  lat            21613 non-null  float64\n",
      " 18  long           21613 non-null  float64\n",
      " 19  sqft_living15  21613 non-null  int64  \n",
      " 20  sqft_lot15     21613 non-null  int64  \n",
      "dtypes: float64(5), int64(15), object(1)\n",
      "memory usage: 3.5+ MB\n"
     ]
    },
    {
     "data": {
      "text/html": [
       "<div>\n",
       "<style scoped>\n",
       "    .dataframe tbody tr th:only-of-type {\n",
       "        vertical-align: middle;\n",
       "    }\n",
       "\n",
       "    .dataframe tbody tr th {\n",
       "        vertical-align: top;\n",
       "    }\n",
       "\n",
       "    .dataframe thead th {\n",
       "        text-align: right;\n",
       "    }\n",
       "</style>\n",
       "<table border=\"1\" class=\"dataframe\">\n",
       "  <thead>\n",
       "    <tr style=\"text-align: right;\">\n",
       "      <th></th>\n",
       "      <th>id</th>\n",
       "      <th>date</th>\n",
       "      <th>price</th>\n",
       "      <th>bedrooms</th>\n",
       "      <th>bathrooms</th>\n",
       "      <th>sqft_living</th>\n",
       "      <th>sqft_lot</th>\n",
       "      <th>floors</th>\n",
       "      <th>waterfront</th>\n",
       "      <th>view</th>\n",
       "      <th>...</th>\n",
       "      <th>grade</th>\n",
       "      <th>sqft_above</th>\n",
       "      <th>sqft_basement</th>\n",
       "      <th>yr_built</th>\n",
       "      <th>yr_renovated</th>\n",
       "      <th>zipcode</th>\n",
       "      <th>lat</th>\n",
       "      <th>long</th>\n",
       "      <th>sqft_living15</th>\n",
       "      <th>sqft_lot15</th>\n",
       "    </tr>\n",
       "  </thead>\n",
       "  <tbody>\n",
       "    <tr>\n",
       "      <th>0</th>\n",
       "      <td>7129300520</td>\n",
       "      <td>20141013T000000</td>\n",
       "      <td>221900.0</td>\n",
       "      <td>3</td>\n",
       "      <td>1.00</td>\n",
       "      <td>1180</td>\n",
       "      <td>5650</td>\n",
       "      <td>1.0</td>\n",
       "      <td>0</td>\n",
       "      <td>0</td>\n",
       "      <td>...</td>\n",
       "      <td>7</td>\n",
       "      <td>1180</td>\n",
       "      <td>0</td>\n",
       "      <td>1955</td>\n",
       "      <td>0</td>\n",
       "      <td>98178</td>\n",
       "      <td>47.5112</td>\n",
       "      <td>-122.257</td>\n",
       "      <td>1340</td>\n",
       "      <td>5650</td>\n",
       "    </tr>\n",
       "    <tr>\n",
       "      <th>1</th>\n",
       "      <td>6414100192</td>\n",
       "      <td>20141209T000000</td>\n",
       "      <td>538000.0</td>\n",
       "      <td>3</td>\n",
       "      <td>2.25</td>\n",
       "      <td>2570</td>\n",
       "      <td>7242</td>\n",
       "      <td>2.0</td>\n",
       "      <td>0</td>\n",
       "      <td>0</td>\n",
       "      <td>...</td>\n",
       "      <td>7</td>\n",
       "      <td>2170</td>\n",
       "      <td>400</td>\n",
       "      <td>1951</td>\n",
       "      <td>1991</td>\n",
       "      <td>98125</td>\n",
       "      <td>47.7210</td>\n",
       "      <td>-122.319</td>\n",
       "      <td>1690</td>\n",
       "      <td>7639</td>\n",
       "    </tr>\n",
       "    <tr>\n",
       "      <th>2</th>\n",
       "      <td>5631500400</td>\n",
       "      <td>20150225T000000</td>\n",
       "      <td>180000.0</td>\n",
       "      <td>2</td>\n",
       "      <td>1.00</td>\n",
       "      <td>770</td>\n",
       "      <td>10000</td>\n",
       "      <td>1.0</td>\n",
       "      <td>0</td>\n",
       "      <td>0</td>\n",
       "      <td>...</td>\n",
       "      <td>6</td>\n",
       "      <td>770</td>\n",
       "      <td>0</td>\n",
       "      <td>1933</td>\n",
       "      <td>0</td>\n",
       "      <td>98028</td>\n",
       "      <td>47.7379</td>\n",
       "      <td>-122.233</td>\n",
       "      <td>2720</td>\n",
       "      <td>8062</td>\n",
       "    </tr>\n",
       "    <tr>\n",
       "      <th>3</th>\n",
       "      <td>2487200875</td>\n",
       "      <td>20141209T000000</td>\n",
       "      <td>604000.0</td>\n",
       "      <td>4</td>\n",
       "      <td>3.00</td>\n",
       "      <td>1960</td>\n",
       "      <td>5000</td>\n",
       "      <td>1.0</td>\n",
       "      <td>0</td>\n",
       "      <td>0</td>\n",
       "      <td>...</td>\n",
       "      <td>7</td>\n",
       "      <td>1050</td>\n",
       "      <td>910</td>\n",
       "      <td>1965</td>\n",
       "      <td>0</td>\n",
       "      <td>98136</td>\n",
       "      <td>47.5208</td>\n",
       "      <td>-122.393</td>\n",
       "      <td>1360</td>\n",
       "      <td>5000</td>\n",
       "    </tr>\n",
       "    <tr>\n",
       "      <th>4</th>\n",
       "      <td>1954400510</td>\n",
       "      <td>20150218T000000</td>\n",
       "      <td>510000.0</td>\n",
       "      <td>3</td>\n",
       "      <td>2.00</td>\n",
       "      <td>1680</td>\n",
       "      <td>8080</td>\n",
       "      <td>1.0</td>\n",
       "      <td>0</td>\n",
       "      <td>0</td>\n",
       "      <td>...</td>\n",
       "      <td>8</td>\n",
       "      <td>1680</td>\n",
       "      <td>0</td>\n",
       "      <td>1987</td>\n",
       "      <td>0</td>\n",
       "      <td>98074</td>\n",
       "      <td>47.6168</td>\n",
       "      <td>-122.045</td>\n",
       "      <td>1800</td>\n",
       "      <td>7503</td>\n",
       "    </tr>\n",
       "  </tbody>\n",
       "</table>\n",
       "<p>5 rows × 21 columns</p>\n",
       "</div>"
      ],
      "text/plain": [
       "           id             date     price  bedrooms  bathrooms  sqft_living  \\\n",
       "0  7129300520  20141013T000000  221900.0         3       1.00         1180   \n",
       "1  6414100192  20141209T000000  538000.0         3       2.25         2570   \n",
       "2  5631500400  20150225T000000  180000.0         2       1.00          770   \n",
       "3  2487200875  20141209T000000  604000.0         4       3.00         1960   \n",
       "4  1954400510  20150218T000000  510000.0         3       2.00         1680   \n",
       "\n",
       "   sqft_lot  floors  waterfront  view  ...  grade  sqft_above  sqft_basement  \\\n",
       "0      5650     1.0           0     0  ...      7        1180              0   \n",
       "1      7242     2.0           0     0  ...      7        2170            400   \n",
       "2     10000     1.0           0     0  ...      6         770              0   \n",
       "3      5000     1.0           0     0  ...      7        1050            910   \n",
       "4      8080     1.0           0     0  ...      8        1680              0   \n",
       "\n",
       "   yr_built  yr_renovated  zipcode      lat     long  sqft_living15  \\\n",
       "0      1955             0    98178  47.5112 -122.257           1340   \n",
       "1      1951          1991    98125  47.7210 -122.319           1690   \n",
       "2      1933             0    98028  47.7379 -122.233           2720   \n",
       "3      1965             0    98136  47.5208 -122.393           1360   \n",
       "4      1987             0    98074  47.6168 -122.045           1800   \n",
       "\n",
       "   sqft_lot15  \n",
       "0        5650  \n",
       "1        7639  \n",
       "2        8062  \n",
       "3        5000  \n",
       "4        7503  \n",
       "\n",
       "[5 rows x 21 columns]"
      ]
     },
     "execution_count": 139,
     "metadata": {},
     "output_type": "execute_result"
    }
   ],
   "source": [
    "dataframe.info()\n",
    "dataframe.head()"
   ]
  },
  {
   "cell_type": "markdown",
   "metadata": {},
   "source": [
    "c) Create a training set with the first 20,000 samples in the dataframe"
   ]
  },
  {
   "cell_type": "code",
   "execution_count": 142,
   "metadata": {},
   "outputs": [
    {
     "name": "stdout",
     "output_type": "stream",
     "text": [
      "               id             date     price  bedrooms  bathrooms  \\\n",
      "0      7129300520  20141013T000000  221900.0         3       1.00   \n",
      "1      6414100192  20141209T000000  538000.0         3       2.25   \n",
      "2      5631500400  20150225T000000  180000.0         2       1.00   \n",
      "3      2487200875  20141209T000000  604000.0         4       3.00   \n",
      "4      1954400510  20150218T000000  510000.0         3       2.00   \n",
      "...           ...              ...       ...       ...        ...   \n",
      "19995  1123049232  20140606T000000  279000.0         5       2.50   \n",
      "19996  3654200037  20150330T000000  380000.0         3       2.25   \n",
      "19997  7299601790  20141107T000000  287000.0         3       2.50   \n",
      "19998  2771101921  20141211T000000  377000.0         2       1.50   \n",
      "19999  3566800485  20150223T000000  649950.0         4       3.50   \n",
      "\n",
      "       sqft_living  sqft_lot  floors  waterfront  view  ...  grade  \\\n",
      "0             1180      5650     1.0           0     0  ...      7   \n",
      "1             2570      7242     2.0           0     0  ...      7   \n",
      "2              770     10000     1.0           0     0  ...      6   \n",
      "3             1960      5000     1.0           0     0  ...      7   \n",
      "4             1680      8080     1.0           0     0  ...      8   \n",
      "...            ...       ...     ...         ...   ...  ...    ...   \n",
      "19995         2690      5557     2.0           0     0  ...      7   \n",
      "19996         1530      1305     2.0           0     0  ...      7   \n",
      "19997         1600      6315     2.0           0     0  ...      8   \n",
      "19998         1000      1251     2.0           0     0  ...      7   \n",
      "19999         2440      3012     3.0           0     1  ...      8   \n",
      "\n",
      "       sqft_above  sqft_basement  yr_built  yr_renovated  zipcode      lat  \\\n",
      "0            1180              0      1955             0    98178  47.5112   \n",
      "1            2170            400      1951          1991    98125  47.7210   \n",
      "2             770              0      1933             0    98028  47.7379   \n",
      "3            1050            910      1965             0    98136  47.5208   \n",
      "4            1680              0      1987             0    98074  47.6168   \n",
      "...           ...            ...       ...           ...      ...      ...   \n",
      "19995        2690              0      2012             0    98178  47.4914   \n",
      "19996        1116            414      2007             0    98177  47.7034   \n",
      "19997        1600              0      2013             0    98092  47.2611   \n",
      "19998         930             70      2006             0    98199  47.6529   \n",
      "19999        2440              0      2005             0    98117  47.6923   \n",
      "\n",
      "          long  sqft_living15  sqft_lot15  \n",
      "0     -122.257           1340        5650  \n",
      "1     -122.319           1690        7639  \n",
      "2     -122.233           2720        8062  \n",
      "3     -122.393           1360        5000  \n",
      "4     -122.045           1800        7503  \n",
      "...        ...            ...         ...  \n",
      "19995 -122.253           2090       10500  \n",
      "19996 -122.357           1320        1427  \n",
      "19997 -122.198           1608        4300  \n",
      "19998 -122.384           1420        1187  \n",
      "19999 -122.392           1860        4650  \n",
      "\n",
      "[20000 rows x 21 columns]\n"
     ]
    }
   ],
   "source": [
    "first_20000 = dataframe[:20000]\n",
    "print(first_20000)"
   ]
  },
  {
   "cell_type": "markdown",
   "metadata": {},
   "source": [
    "d) Implement Linear Regression as a function which takes an input vector, x, and output vector, t, and returns parameters w<sub>0</sub> and w<sub>1</sub>."
   ]
  },
  {
   "cell_type": "code",
   "execution_count": 179,
   "metadata": {},
   "outputs": [],
   "source": [
    "def linearRegression (x, t):\n",
    "    # your code here\n",
    "    n = 20000\n",
    "    w1 =  (x.sum()*t.sum() - n*(x*t).sum()) / (x.sum()*x.sum() - n*(x*x).sum())# replace me\n",
    "    w0 =  ((x*t).sum()*x.sum() - t.sum()*(x*x).sum()) / (x.sum()*x.sum() - - n*(x*x).sum())                              # replace me\n",
    "    return (w0, w1)"
   ]
  },
  {
   "cell_type": "markdown",
   "metadata": {},
   "source": [
    "e) Use the training set to perform linear regression using the sqft_living property compared to the price."
   ]
  },
  {
   "cell_type": "code",
   "execution_count": 188,
   "metadata": {},
   "outputs": [],
   "source": [
    "x = first_20000[\"sqft_living\"]\n",
    "t = first_20000[\"price\"]"
   ]
  },
  {
   "cell_type": "markdown",
   "metadata": {},
   "source": [
    "f) What are the learned w<sub>0</sub> and w<sub>1</sub> parameters?"
   ]
  },
  {
   "cell_type": "code",
   "execution_count": 189,
   "metadata": {},
   "outputs": [
    {
     "name": "stdout",
     "output_type": "stream",
     "text": [
      "4206.615381709225\n",
      "283.35841313277666\n"
     ]
    }
   ],
   "source": [
    "\n",
    "w0 = linearRegression(x,t)[0]\n",
    "w1 = linearRegression(x,t)[1]\n",
    "print(w0)\n",
    "print(w1)"
   ]
  },
  {
   "cell_type": "markdown",
   "metadata": {},
   "source": [
    "g) Create a function which takes a w<sub>0</sub>, w<sub>1</sub> and single input features x, and returns a single output prediction, y."
   ]
  },
  {
   "cell_type": "code",
   "execution_count": 190,
   "metadata": {},
   "outputs": [],
   "source": [
    "def predict (w0, w1, x):\n",
    "    y = w0 + w1*x\n",
    "    return y"
   ]
  },
  {
   "cell_type": "markdown",
   "metadata": {},
   "source": [
    "h) could the function created in g also work with a numpy vectors of features? why or why not? Test your expectation."
   ]
  },
  {
   "cell_type": "code",
   "execution_count": 191,
   "metadata": {},
   "outputs": [
    {
     "name": "stdout",
     "output_type": "stream",
     "text": [
      "[4489.97379484 4773.33220797 5056.69062111]\n"
     ]
    }
   ],
   "source": [
    "#\n",
    "numpyVectors = np.array([1,2,3])\n",
    "print(predict(w0,w1,numpyVectors))"
   ]
  },
  {
   "cell_type": "markdown",
   "metadata": {},
   "source": [
    "i) Using the found model, what would be the predicted price for a house of 1346 sqft?"
   ]
  },
  {
   "cell_type": "code",
   "execution_count": 192,
   "metadata": {},
   "outputs": [
    {
     "name": "stdout",
     "output_type": "stream",
     "text": [
      "385607.03945842665\n"
     ]
    }
   ],
   "source": [
    "print(predict(w0,w1,1346))"
   ]
  },
  {
   "cell_type": "markdown",
   "metadata": {},
   "source": [
    "j)  Create a function which takes w<sub>0</sub>, w<sub>1</sub>, vector x and vector t and returns the RSS."
   ]
  },
  {
   "cell_type": "code",
   "execution_count": 193,
   "metadata": {},
   "outputs": [],
   "source": [
    "def computeRSS (w0, w1, x, t):\n",
    "    RSS = ((t-w0-w1*x)*(t-w0-w1*x)).sum()\n",
    "    return RSS"
   ]
  },
  {
   "cell_type": "markdown",
   "metadata": {},
   "source": [
    "k) Create a test set using the remainder of data in the KC House Data set"
   ]
  },
  {
   "cell_type": "code",
   "execution_count": 194,
   "metadata": {},
   "outputs": [
    {
     "name": "stdout",
     "output_type": "stream",
     "text": [
      "               id             date      price  bedrooms  bathrooms  \\\n",
      "20001  9137101696  20150504T000000   605000.0         3       2.50   \n",
      "20002  9528104345  20140923T000000   475000.0         3       2.25   \n",
      "20003  3753000100  20140828T000000   399000.0         3       3.00   \n",
      "20004  6798100690  20150420T000000   718000.0         5       2.75   \n",
      "20005   148000475  20140528T000000  1400000.0         4       3.25   \n",
      "...           ...              ...        ...       ...        ...   \n",
      "21608   263000018  20140521T000000   360000.0         3       2.50   \n",
      "21609  6600060120  20150223T000000   400000.0         4       2.50   \n",
      "21610  1523300141  20140623T000000   402101.0         2       0.75   \n",
      "21611   291310100  20150116T000000   400000.0         3       2.50   \n",
      "21612  1523300157  20141015T000000   325000.0         2       0.75   \n",
      "\n",
      "       sqft_living  sqft_lot  floors  waterfront  view  ...  grade  \\\n",
      "20001         1660      1692     3.0           0     0  ...      7   \n",
      "20002         1190      1137     2.0           0     0  ...      7   \n",
      "20003         1520      1884     3.0           0     0  ...      8   \n",
      "20004         3250      8100     2.0           0     0  ...      8   \n",
      "20005         4700      9160     1.0           0     4  ...     11   \n",
      "...            ...       ...     ...         ...   ...  ...    ...   \n",
      "21608         1530      1131     3.0           0     0  ...      8   \n",
      "21609         2310      5813     2.0           0     0  ...      8   \n",
      "21610         1020      1350     2.0           0     0  ...      7   \n",
      "21611         1600      2388     2.0           0     0  ...      8   \n",
      "21612         1020      1076     2.0           0     0  ...      7   \n",
      "\n",
      "       sqft_above  sqft_basement  yr_built  yr_renovated  zipcode      lat  \\\n",
      "20001        1610             50      2005             0    98115  47.6801   \n",
      "20002         960            230      1999             0    98115  47.6770   \n",
      "20003        1520              0      2009             0    98125  47.7176   \n",
      "20004        3250              0      2014             0    98125  47.7133   \n",
      "20005        2520           2180      2005             0    98116  47.5744   \n",
      "...           ...            ...       ...           ...      ...      ...   \n",
      "21608        1530              0      2009             0    98103  47.6993   \n",
      "21609        2310              0      2014             0    98146  47.5107   \n",
      "21610        1020              0      2009             0    98144  47.5944   \n",
      "21611        1600              0      2004             0    98027  47.5345   \n",
      "21612        1020              0      2008             0    98144  47.5941   \n",
      "\n",
      "          long  sqft_living15  sqft_lot15  \n",
      "20001 -122.322           1210        1230  \n",
      "20002 -122.325           1190        1080  \n",
      "20003 -122.284           1360        1939  \n",
      "20004 -122.311           1270        8100  \n",
      "20005 -122.406           2240        8700  \n",
      "...        ...            ...         ...  \n",
      "21608 -122.346           1530        1509  \n",
      "21609 -122.362           1830        7200  \n",
      "21610 -122.299           1020        2007  \n",
      "21611 -122.069           1410        1287  \n",
      "21612 -122.299           1020        1357  \n",
      "\n",
      "[1612 rows x 21 columns]\n"
     ]
    }
   ],
   "source": [
    "kcHouseRemainder = dataframe[20001:len(dataframe)]\n",
    "print(kcHouseRemainder)"
   ]
  },
  {
   "cell_type": "markdown",
   "metadata": {},
   "source": [
    "l) Compute the RSS for using the sqft_living feature of the test set"
   ]
  },
  {
   "cell_type": "code",
   "execution_count": 205,
   "metadata": {},
   "outputs": [
    {
     "name": "stdout",
     "output_type": "stream",
     "text": [
      "165.82867229081208 254.85972258082467\n",
      "114532311590191.47\n"
     ]
    }
   ],
   "source": [
    "x = kcHouseRemainder[\"sqft_living\"]\n",
    "t = kcHouseRemainder[\"price\"]\n",
    "w0 = linearRegression(x,t)[0]\n",
    "w1 = linearRegression(x,t)[1]\n",
    "print(w0,w1)\n",
    "print(computeRSS(w0,w1,x,t))"
   ]
  },
  {
   "cell_type": "markdown",
   "metadata": {},
   "source": [
    "k)  Perform regression again, this time using the training set and the number of bedrooms"
   ]
  },
  {
   "cell_type": "code",
   "execution_count": 203,
   "metadata": {},
   "outputs": [
    {
     "name": "stdout",
     "output_type": "stream",
     "text": [
      "-5077.099298997545 118461.45734754948\n",
      "350307.2727436509\n",
      "2836782896441284.5\n"
     ]
    }
   ],
   "source": [
    "x = first_20000[\"bedrooms\"]\n",
    "t = first_20000[\"price\"]\n",
    "w0 = linearRegression(x,t)[0]\n",
    "w1 = linearRegression(x,t)[1]\n",
    "print(w0,w1)\n",
    "print(predict(w0,w1,3))\n",
    "print(computeRSS(w0,w1,x,t))"
   ]
  },
  {
   "cell_type": "markdown",
   "metadata": {},
   "source": [
    "l) What are the w<sub>0</sub> and w<sub>1</sub> terms?"
   ]
  },
  {
   "cell_type": "code",
   "execution_count": 204,
   "metadata": {},
   "outputs": [
    {
     "name": "stdout",
     "output_type": "stream",
     "text": [
      "-5077.099298997545 118461.45734754948\n"
     ]
    }
   ],
   "source": [
    "#w1 is the slope of the predict line, the larger w1 is, the predict value increase faster\n",
    "#w0 is the intercept of the x axis, when the inout x is 0 ,the predict y is equal to w0\n",
    "print(w0,w1)"
   ]
  },
  {
   "cell_type": "markdown",
   "metadata": {},
   "source": [
    "m) Which model has a larger value for w<sub>0</sub>, and what does this represent?"
   ]
  },
  {
   "cell_type": "markdown",
   "metadata": {},
   "source": []
  },
  {
   "cell_type": "markdown",
   "metadata": {},
   "source": [
    "n) How could you select between the two models to figure out which is better?"
   ]
  },
  {
   "cell_type": "code",
   "execution_count": null,
   "metadata": {},
   "outputs": [],
   "source": [
    "# m)the sqft_living has larger w0, means sqft_living has more influence to the price\n",
    "\n",
    "# n) method 1. take the sqft_living set as our xt , take the prices of xt as t\n",
    "# take the predict set of xt as yt\n",
    "# x = (yt - t)*(yt - t).sum() (x >=0)\n",
    "# smaller the x is , more precise our predict is\n",
    "# caculate the value of x for sqft_living and bedroom ,then compare them, choose one with smaller x\n",
    "# after I wrote method 1 I realize i am doing the same thing as RSS\n",
    "# n) method 2 . simply using RSS function , choose the set with less RSS value\n",
    "\n"
   ]
  }
 ],
 "metadata": {
  "kernelspec": {
   "display_name": "Python 3",
   "language": "python",
   "name": "python3"
  },
  "language_info": {
   "codemirror_mode": {
    "name": "ipython",
    "version": 3
   },
   "file_extension": ".py",
   "mimetype": "text/x-python",
   "name": "python",
   "nbconvert_exporter": "python",
   "pygments_lexer": "ipython3",
   "version": "3.8.5"
  }
 },
 "nbformat": 4,
 "nbformat_minor": 2
}
