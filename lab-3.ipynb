{
 "cells": [
  {
   "cell_type": "markdown",
   "metadata": {},
   "source": [
    "## ENSE 496AD - Lab 3 - k-Nearest Neighbour and k-Means Clustering\n",
    "\n",
    "In this lab you will implement the k-Nearest Neighbour and k-Means Clustering algorithms.\n",
    "\n",
    "k-Nearest Neighbor is a regression algorithm which returns the average value of the k-closest samples to a target sample. You will implement two versions of this algorithm, a simple version which returns only the average, and a weighted variant in which the averages are scaled based on the inverse of the distance to the sample.\n",
    "\n",
    "k-Means Clustering in an unsupervised learning algorithm in which you group the dataset into a number of clusters based on their proximity to cluster centers. This algorithm is trained iteratively, where the cluster groups and cluster centers are updated over a number of iterations.\n",
    "\n",
    "These algorithms have little in common except they both have \"k\" in their names, are both very popular machine learning algorithms, and they make both use of distance functions. Due to the common approaches, they have been grouped together for this lab. Another difference is that the k in k-nearest neighbours refers to the number of neighbours, and k in k-Means Clustering refers to the number of cluster centers.\n",
    "\n",
    "In this lab you will implement and verify the algorithms using a synthetic dataset. You will then apply what you learned to a real world dataset."
   ]
  },
  {
   "cell_type": "markdown",
   "metadata": {},
   "source": [
    "Import numpy and matplotlib."
   ]
  },
  {
   "cell_type": "code",
   "execution_count": 969,
   "metadata": {},
   "outputs": [],
   "source": [
    "#your code here#your code here\n",
    "import numpy as np"
   ]
  },
  {
   "cell_type": "markdown",
   "metadata": {},
   "source": [
    "This toy dataset will be used to verify correct operation of your algorithms"
   ]
  },
  {
   "cell_type": "code",
   "execution_count": 1258,
   "metadata": {},
   "outputs": [],
   "source": [
    "# toy dataset of pets. length and height in cm, mass in kg.\n",
    "                     #length, height,\n",
    "X_train = np.array([[    107,     91],  # bernese\n",
    "                    [    122,     44],  # great dane\n",
    "                    [    107,     81],  # goldie\n",
    "                    [     64,     56],  # beagle\n",
    "                    [     38,     25],  # sphynx\n",
    "                    [     36,     25],  # siamese\n",
    "                    [     44,     25],  # persian\n",
    "                    [     41,     30]]).astype(float) # manx\n",
    "\n",
    "                   #mass\n",
    "Y_train = np.array([[52],\n",
    "                    [79],\n",
    "                    [34],\n",
    "                    [24],\n",
    "                    [ 6],\n",
    "                    [ 5],\n",
    "                    [ 5],\n",
    "                    [ 5]]).astype(float)\n",
    "\n",
    "x_test   = np.array([[ 30, 30]]).astype(float)\n",
    "x_test_2 = np.array([[ 80, 60]]).astype(float)\n",
    "x_test_3 = np.array([[100, 80]]).astype(float)"
   ]
  },
  {
   "cell_type": "markdown",
   "metadata": {},
   "source": [
    "### Part 1: K-Nearest Neighbour (30 Marks)\n",
    "\n",
    "In this portion of the workbook you will implement K-Nearest Neighbor regression algorithm."
   ]
  },
  {
   "cell_type": "markdown",
   "metadata": {},
   "source": [
    "Using MatPlotLib, create a scatter plot the training set with the first column on the X-axis and the second column on the Y-axis "
   ]
  },
  {
   "cell_type": "code",
   "execution_count": 1099,
   "metadata": {},
   "outputs": [],
   "source": [
    "#your code here\n",
    "import matplotlib.pyplot as plt"
   ]
  },
  {
   "cell_type": "markdown",
   "metadata": {},
   "source": [
    "Implement a vectorized Manhattan Distance function here for two numpy arrays.\n",
    "\n",
    "$\\sum_{i=1}^n |x_i-y_i|$\n",
    "\n",
    "Arguments:\n",
    "- X_train is a 2D numpy array with multiple rows.\n",
    "- x_test is a 2D array with a single row.\n",
    "\n",
    "Returns: \n",
    "A column vector which is the manhattan distance between each row of X_train to the single row of x_test   \n",
    "\n",
    "You may wish to make use of: \n",
    " - broadcasting\n",
    " - summing along axes\n",
    " - converting 1D to 2D arrays\n",
    " - taking the Transpose\n",
    "\n",
    "It is important you vectorize this function to speed up training time for later sections"
   ]
  },
  {
   "cell_type": "code",
   "execution_count": 1100,
   "metadata": {},
   "outputs": [],
   "source": [
    "def manhattan (X_train, x_test):\n",
    "    result = np.sum(abs(x_test - X_train),axis =1,keepdims= True)\n",
    "    return result\n",
    "    #your code here"
   ]
  },
  {
   "cell_type": "markdown",
   "metadata": {},
   "source": [
    "Test Cell\n",
    "\n",
    "Call:\n",
    "\n",
    "~~~\n",
    "print (manhattan(X_train, X_test))\n",
    "~~~\n",
    "\n",
    "Expected Output:\n",
    "~~~\n",
    "[[138.]\n",
    " [106.]\n",
    " [128.]\n",
    " [ 60.]\n",
    " [ 13.]\n",
    " [ 11.]\n",
    " [ 19.]\n",
    " [ 11.]]\n",
    " ~~~"
   ]
  },
  {
   "cell_type": "code",
   "execution_count": 1101,
   "metadata": {},
   "outputs": [
    {
     "name": "stdout",
     "output_type": "stream",
     "text": [
      "[[138.]\n",
      " [106.]\n",
      " [128.]\n",
      " [ 60.]\n",
      " [ 13.]\n",
      " [ 11.]\n",
      " [ 19.]\n",
      " [ 11.]]\n"
     ]
    }
   ],
   "source": [
    "print (manhattan(X_train, x_test))"
   ]
  },
  {
   "cell_type": "markdown",
   "metadata": {},
   "source": [
    "Implement a vectorized euclidean distance function here with the same interface as the previous function. \n",
    "\n",
    "$\\sqrt{\\sum_{i=1}^n (x_i-y_i)^2}$\n",
    "\n",
    "Vectorizing this function will greatly increase training speed later on."
   ]
  },
  {
   "cell_type": "code",
   "execution_count": 1102,
   "metadata": {},
   "outputs": [],
   "source": [
    "def euclidean (X_train, x_test):\n",
    "    xMinusYSquare = np.power(abs(X_train - x_test),2)\n",
    "    sumOfxy = np.sum(xMinusYSquare,axis=1, keepdims= True)\n",
    "    return np.power(sumOfxy,0.5)\n",
    "    #your code here"
   ]
  },
  {
   "cell_type": "markdown",
   "metadata": {},
   "source": [
    "Test Cell\n",
    "\n",
    "Call:\n",
    "\n",
    "~~~\n",
    "print(euclidean(X_train, X_test))\n",
    "~~~\n",
    "\n",
    "Expected Output\n",
    "~~~\n",
    "[[98.23441352]\n",
    " [93.05912099]\n",
    " [92.35799911]\n",
    " [42.80186912]\n",
    " [ 9.43398113]\n",
    " [ 7.81024968]\n",
    " [14.86606875]\n",
    " [11.        ]]\n",
    " ~~~"
   ]
  },
  {
   "cell_type": "code",
   "execution_count": 1103,
   "metadata": {},
   "outputs": [
    {
     "name": "stdout",
     "output_type": "stream",
     "text": [
      "[[98.23441352]\n",
      " [93.05912099]\n",
      " [92.35799911]\n",
      " [42.80186912]\n",
      " [ 9.43398113]\n",
      " [ 7.81024968]\n",
      " [14.86606875]\n",
      " [11.        ]]\n"
     ]
    }
   ],
   "source": [
    "print(euclidean(X_train, x_test))\n",
    "#result = euclidean(X_train, x_test)\n",
    "                     "
   ]
  },
  {
   "cell_type": "markdown",
   "metadata": {},
   "source": [
    "Implement the k-Nearest Neighbours function below\n",
    "\n",
    "Arguments:\n",
    "- X_train - The dataset from which the k-Nearest Neighbours will be found\n",
    "- Y_train - The output value column for the dataset\n",
    "- x_test - The test sample for which we wish to find Neighbours\n",
    "- DistanceFunction - a function which computes the distances. We can pass in the manhattan or euclidean functions from before. This function will be called directly in this function  \n",
    "- k - the number of neighbors to return.\n",
    "\n",
    "Returns:\n",
    "A 2D numpy matrix with k rows corresponding to the k-Nearest Neighbors. Include in this matrix:\n",
    "- The first column should be the distances\n",
    "- The middle columns should be the X_train values for the nearest samples\n",
    "- The final column should be the Y_train values for the nearest samples\n",
    "\n",
    "Example, if X\\[n\\] is the nearest sample:\n",
    "\n",
    "|distance|X\\[n,0\\]|X\\[n,1\\]|Y\\[n\\]  |\n",
    "|---|---|---|---|\n",
    "|11. |36. |25. |5.  |\n",
    "|   |   |   |   |\n",
    "\n",
    "     \n",
    "\n",
    "Hint:\n",
    "\n",
    "One possible approach is to compute all of the distances as a column vector, concatenate X-Train to this matrix, append Y-train to this matrix, then sort by the distance column. Finally, return the first k samples, ie. the k samples with the lowest distance.\n",
    "\n",
    "Example code for sorting based on the first column:\n",
    "~~~\n",
    "distances = distances[distances[:,0].argsort()]\n",
    "~~~"
   ]
  },
  {
   "cell_type": "code",
   "execution_count": 1104,
   "metadata": {},
   "outputs": [],
   "source": [
    "def kNearestNeighbours (X_train, Y_train, x_test, DistanceFunction, k):\n",
    "    distances = DistanceFunction(X_train, x_test)\n",
    "    distances = np.concatenate((distances,X_train,Y_train),axis = 1)\n",
    "    distances = distances[distances[:,0].argsort()]\n",
    "    return distances[0:k]\n",
    "    #your code here"
   ]
  },
  {
   "cell_type": "markdown",
   "metadata": {},
   "source": [
    "Test Cell\n",
    "\n",
    "Call:\n",
    "\n",
    "~~~\n",
    "kNN = kNearestNeighbours(X_train, Y_train, x_test, manhattan, 3)\n",
    "print (kNN)\n",
    "~~~\n",
    "\n",
    "Expected Output\n",
    "~~~\n",
    "[[11. 36. 25.  5.]\n",
    " [11. 41. 30.  5.]\n",
    " [13. 38. 25.  6.]]\n",
    "~~~"
   ]
  },
  {
   "cell_type": "code",
   "execution_count": 1105,
   "metadata": {},
   "outputs": [
    {
     "name": "stdout",
     "output_type": "stream",
     "text": [
      "[[11. 36. 25.  5.]\n",
      " [11. 41. 30.  5.]\n",
      " [13. 38. 25.  6.]]\n"
     ]
    }
   ],
   "source": [
    "kNN = kNearestNeighbours(X_train, Y_train, x_test, manhattan, 3)\n",
    "print (kNN)"
   ]
  },
  {
   "cell_type": "markdown",
   "metadata": {},
   "source": [
    "Implement predictkNN\n",
    "\n",
    "Arguments:\n",
    "- kNN - the k-Nearest Neighbours matrix returned from the previous function, which includes the distances (first column), sample inputs (middle columns), and sample outptus (last column).\n",
    "\n",
    "Returns:\n",
    "The prediction for the test sample based on the k-Nearest Neihbours matrix, that is, the unweighted average of the output samples "
   ]
  },
  {
   "cell_type": "code",
   "execution_count": 1106,
   "metadata": {},
   "outputs": [],
   "source": [
    "def predictkNN (kNN):\n",
    "    allmean = np.mean(kNN, axis=0)\n",
    "    i = len(allmean)-1\n",
    "    result = np.mean(kNN, axis=0)[i]\n",
    "    return result\n",
    "    #your code here"
   ]
  },
  {
   "cell_type": "markdown",
   "metadata": {},
   "source": [
    "Test Cell\n",
    "\n",
    "Call:\n",
    "\n",
    "~~~\n",
    "print(predictkNN(knn))\n",
    "~~~\n",
    "\n",
    "Expected Output\n",
    "~~~\n",
    "5.333333333333333\n",
    "~~~"
   ]
  },
  {
   "cell_type": "code",
   "execution_count": 1107,
   "metadata": {},
   "outputs": [
    {
     "name": "stdout",
     "output_type": "stream",
     "text": [
      "5.333333333333333\n"
     ]
    }
   ],
   "source": [
    "print(predictkNN(kNN))\n"
   ]
  },
  {
   "cell_type": "markdown",
   "metadata": {},
   "source": [
    "Implement predictWeightedkNN\n",
    "\n",
    "Arguments:\n",
    "- kNN - the k-Nearest Neighbours returned from the previous function\n",
    "\n",
    "Returns:\n",
    "The prediction for the test sample based on the k-Nearest Neihbours matrix, however, this time the result should be weighted based on the distances to the k nearest neighbours.\n",
    "\n",
    "Hint:\n",
    "First compute the inverse of the distance column. This will be the weights for each output. Next, normalize the weights so that the values add up to one - that is, find the sum of the weights and divide each weight by the sum. Finally, compute the weighted average by elementwise multiplication with the weights and the outputs, summing all values.\n",
    "\n",
    "Note: This function will fail if a distance evaluates to zero. You could protect against this by adding a small value to each distance before inverting for numerical stability, eg. 0.00000000001, but for consistent results we will omit this."
   ]
  },
  {
   "cell_type": "code",
   "execution_count": 1108,
   "metadata": {},
   "outputs": [],
   "source": [
    "def predictWeightedkNN (kNN):\n",
    "    a=np.array(kNN)\n",
    "    num_rows, num_cols = a.shape\n",
    "    for i in range(len(kNN)):\n",
    "        if kNN[i,0] == 0:\n",
    "            kNN[i,0] = 1\n",
    "    #print(kNN)\n",
    "    kNN[:,0] = 1/(kNN[:,0])\n",
    "    sumOfDistance = np.sum(kNN,axis = 0)[0]\n",
    "    \n",
    "    if sumOfDistance == 0:\n",
    "        return 10000\n",
    "    else:\n",
    "        kNN[:,0] = kNN[:,0]/sumOfDistance\n",
    "    result = np.sum(kNN[:,0]*kNN[:, (num_cols-1)])\n",
    "    return result\n",
    "    #your code here"
   ]
  },
  {
   "cell_type": "markdown",
   "metadata": {},
   "source": [
    "Test Cell\n",
    "\n",
    "Call:\n",
    "\n",
    "~~~\n",
    "kNN = kNearestNeighbours(X_train, Y_train, x_test, manhattan, 3)\n",
    "print (\"Sample 1: Unweighted vs Weighted, k=3\")\n",
    "print (predictkNN(kNN))\n",
    "print (predictWeightedkNN(kNN))\n",
    "print ()\n",
    "print (\"Sample 2: Manhattan vs Euclidean, k=3\")\n",
    "kNN = kNearestNeighbours(X_train, Y_train, x_test_2, manhattan, 3)\n",
    "print (predictWeightedkNN(kNN))\n",
    "kNN = kNearestNeighbours(X_train, Y_train, x_test_2, euclidean, 3)\n",
    "print (predictWeightedkNN(kNN))\n",
    "print ()\n",
    "print (\"Sample 3: Unweighted vs Weighted, k=4\")\n",
    "kNN = kNearestNeighbours(X_train, Y_train, x_test_3, euclidean, 4)\n",
    "print (predictkNN(kNN))\n",
    "print (predictWeightedkNN(kNN))\n",
    "\n",
    "~~~\n",
    "\n",
    "Expected Output\n",
    "~~~\n",
    "Sample 1: Unweighted vs Weighted, k=3\n",
    "5.333333333333333\n",
    "5.297297297297297\n",
    "\n",
    "Sample 2: Manhattan vs Euclidean, k=3\n",
    "31.846655791190862\n",
    "32.524575172899034\n",
    "\n",
    "Sample 3: Unweighted vs Weighted, k=4\n",
    "47.25\n",
    "42.36444395783339\n",
    "~~~"
   ]
  },
  {
   "cell_type": "code",
   "execution_count": 1109,
   "metadata": {},
   "outputs": [
    {
     "name": "stdout",
     "output_type": "stream",
     "text": [
      "Sample 1: Unweighted vs Weighted, k=3\n",
      "5.333333333333333\n",
      "5.297297297297297\n",
      "\n",
      "Sample 2: Manhattan vs Euclidean, k=3\n",
      "31.846655791190862\n",
      "32.524575172899034\n",
      "\n",
      "Sample 3: Unweighted vs Weighted, k=4\n",
      "47.25\n",
      "42.36444395783339\n"
     ]
    }
   ],
   "source": [
    "kNN = kNearestNeighbours(X_train, Y_train, x_test, manhattan, 3)\n",
    "print (\"Sample 1: Unweighted vs Weighted, k=3\")\n",
    "print (predictkNN(kNN))\n",
    "print (predictWeightedkNN(kNN))\n",
    "print ()\n",
    "print (\"Sample 2: Manhattan vs Euclidean, k=3\")\n",
    "kNN = kNearestNeighbours(X_train, Y_train, x_test_2, manhattan, 3)\n",
    "print (predictWeightedkNN(kNN))\n",
    "kNN = kNearestNeighbours(X_train, Y_train, x_test_2, euclidean, 3)\n",
    "print (predictWeightedkNN(kNN))\n",
    "print ()\n",
    "print (\"Sample 3: Unweighted vs Weighted, k=4\")\n",
    "kNN = kNearestNeighbours(X_train, Y_train, x_test_3, euclidean, 4)\n",
    "print (predictkNN(kNN))\n",
    "print (predictWeightedkNN(kNN))\n"
   ]
  },
  {
   "cell_type": "markdown",
   "metadata": {},
   "source": [
    "### Part 2: K-Means Clustering (40 Marks)\n",
    "\n",
    "It this portion of the workbook you will implement the K-Means Clustering algorithm\n"
   ]
  },
  {
   "cell_type": "markdown",
   "metadata": {},
   "source": [
    "Assign\n",
    "\n",
    "This function takes the input array and assigns each sample to the nearest cluster center\n",
    "\n",
    "Arguments:\n",
    "- X_train - The Training Set in a 2D numpy array\n",
    "- cluster_centers - A 2D numpy array of cluster centers already initialized\n",
    "- DistanceFunction - One of the distance functions previously defined\n",
    "\n",
    "Returns: A 3D numpy array\n",
    "- The first dimension is the index of the cluster_center to which this point is the closest\n",
    "eg. if the sample is the closest to cluster_center\\[0\\], it will be in index \\[0,,\\]\n",
    "- The second and third dimensions are same format as in the training set, with rows being samples and columns being features\n",
    "\n",
    "In other words, this function partitions the training data into several \"sheets\" based on which cluster_center they are closest to, represented by the first index in a 3D array. It's worth noting that these \"sheets\" will not always have the same number of samples, so it's not really a true 3D matrix, an Numpy may struggle to print this data structure neatly during debugging. \n",
    "\n",
    "You do not need to Vectorize any of the remaining functions."
   ]
  },
  {
   "cell_type": "code",
   "execution_count": 1273,
   "metadata": {},
   "outputs": [],
   "source": [
    "def assign (X_train, cluster_centers, DistanceFunction):\n",
    "    #get column and rows of cluster_center\n",
    "    a = np.array(cluster_centers)\n",
    "    b = np.array(X_train)\n",
    "    num_rows, num_cols = a.shape\n",
    "    num_Xrows, num_Xcols = b.shape\n",
    "\n",
    "    \"\"\"allDistances = np.empty([8,0],float)\n",
    "    distances = euclidean(X_train, cluster_centers[0])  \n",
    "    distances1 = euclidean(X_train, cluster_centers[1])  \n",
    "    allDistances =np.append(allDistances,distances,axis=1)\n",
    "    allDistances =np.append(allDistances,distances1,axis=1) \n",
    "    print(allDistances)\"\"\"\n",
    "    allDistances = np.empty([len(X_train),0],float)\n",
    "    for row in range(num_rows):\n",
    "        distances = euclidean(X_train, cluster_centers[row])\n",
    "        allDistances =np.append(allDistances,distances,axis=1)\n",
    "    #print(allDistances)\n",
    "    c = np.argmin(allDistances,axis=1)  \n",
    "    #print(c)\n",
    "    result =[]\n",
    "    for row in range(num_rows):\n",
    "        result.append([]) \n",
    "    for index in range(len(c)):\n",
    "        result[c[index]].append(X_train[index,:])\n",
    "    #it may have empty assign, assign to its cluster\n",
    "    for i in range(len(result)):\n",
    "        if result[i] == []:\n",
    "            result[i] = [cluster_centers[i]]\n",
    "    result = np.array(result)\n",
    "    return result\n",
    "        \n",
    "    \n",
    "    #your code here"
   ]
  },
  {
   "cell_type": "markdown",
   "metadata": {},
   "source": [
    "Test Cell\n",
    "\n",
    "Call:\n",
    "\n",
    "~~~\n",
    "cluster_centers = np.array([[  1,  1],\n",
    "                            [100, 80]]).astype(float)\n",
    "print (assign(X_train, cluster_centers, euclidean))\n",
    "~~~\n",
    "\n",
    "Expected Output\n",
    "~~~\n",
    "[[[ 38.  25.]\n",
    "  [ 36.  25.]\n",
    "  [ 44.  25.]\n",
    "  [ 41.  30.]]\n",
    "\n",
    " [[107.  91.]\n",
    "  [122.  44.]\n",
    "  [107.  81.]\n",
    "  [ 64.  56.]]]\n",
    "~~~"
   ]
  },
  {
   "cell_type": "code",
   "execution_count": 1274,
   "metadata": {},
   "outputs": [
    {
     "name": "stdout",
     "output_type": "stream",
     "text": [
      "[list([array([1., 1.])]) list([array([107.,  91.]), array([107.,  81.])])\n",
      " list([array([122.,  44.])]) list([array([100.,  60.])])\n",
      " list([array([64., 56.]), array([38., 25.]), array([36., 25.]), array([44., 25.]), array([41., 30.])])]\n"
     ]
    }
   ],
   "source": [
    "#cluster_centers = np.array([[  1,  1],\n",
    " #                          [100, 80]]).astype(float)\n",
    "\"\"\"cluster_centers = np.array([[  1,  1],\n",
    "                           [100, 80],\n",
    "                           [100,50],\n",
    "                           [100,60],\n",
    "                           [40,60]]).astype(float)\"\"\"\n",
    "print (assign(X_train, cluster_centers, euclidean))\n",
    "\n"
   ]
  },
  {
   "cell_type": "markdown",
   "metadata": {},
   "source": [
    "k_means_plus_plus\n",
    "\n",
    "This function smartly initializes the cluster centers based on the following algorithm:\n",
    "- initialize the first cluster center to the coordinates of the first datapoint in the dataset. Typically this is chosen at random, but using the first one will ensure consistent results.\n",
    "- initialized the second cluster center to the coordinates of the datapoint which is the highest distance from the first cluster center\n",
    "- For the third cluster center onwards\n",
    "  - assign the dataset to the computed cluster centers\n",
    "  - initialize the new cluster center to the coordinates of the datapoint which is the highest distance overall from its assigned center\n",
    "\n",
    "You may assume that k will always be greater than or equal to 2\n",
    "\n",
    "Arguments:\n",
    "- X_train - The training set in a 2D numpy array\n",
    "- k - the number of clusters to be found\n",
    "- DistanceFunction - the distance function to be used for distance computations\n",
    "\n",
    "Returns:\n",
    "- A 2D array of cluster centers, with one row for each cluster center."
   ]
  },
  {
   "cell_type": "code",
   "execution_count": 1275,
   "metadata": {},
   "outputs": [],
   "source": [
    "def k_means_plus_plus (X_train, k, DistanceFunction):   \n",
    "    \n",
    "    \"\"\"first = np.array(X_train[0])\n",
    "    distance = DistanceFunction(X_train, first)\n",
    "    second =  np.array(X_train[np.argmax(distance)])\n",
    "    cluster_center = np.append(first, second, axis=0)\n",
    "    cluster_center = cluster_center.reshape(2,2)\n",
    "    cluster_center = np.array(cluster_center)\n",
    "    assign(X_train, cluster_center, euclidean)\n",
    "    assigned = assign(X_train, cluster_center, euclidean)\n",
    "    assigned = np.array(assigned)\n",
    "    final_set =[]\n",
    "    #print(assigned)\n",
    "    for i in range(k-1):\n",
    "        assigned = assign(X_train, cluster_center, euclidean)\n",
    "        assigned = np.array(assigned)\n",
    "        #initial distance \n",
    "        distanceSample = DistanceFunction(assigned[i],cluster_center[0])\n",
    "        distances = np.zeros(distanceSample.shape)\n",
    "        for j in range(len(cluster_center)):\n",
    "            distances = distances + DistanceFunction(assigned[i],cluster_center[j])\n",
    "        results = np.concatenate((distances,assigned[i]),axis = 1)\n",
    "        results = results[results[:,0].argsort()]\n",
    "        results = results[::-1]\n",
    "        print(results)\n",
    "    #np.insert(final_set,0,results[0,:],axis =0) \"\"\"\n",
    "    #generate first two cluster_centers\n",
    "    first = np.array(X_train[0])\n",
    "    distance = DistanceFunction(X_train, first)\n",
    "    second =  np.array(X_train[np.argmax(distance)])\n",
    "    cluster_center = np.append(first, second, axis=0)\n",
    "    cluster_center = cluster_center.reshape(-1,2)\n",
    "    final_set =[]\n",
    "    for i in range(k-2):\n",
    "        assigned = assign(X_train, cluster_center, euclidean)\n",
    "        assigned = np.array(assigned)\n",
    "        #print(assigned)\n",
    "        #initial distance\n",
    "        for j in range(len(assigned)):\n",
    "            distanceSample = DistanceFunction(cluster_center[0],assigned[j])\n",
    "            #print(distanceSample)\n",
    "            distances = np.zeros(distanceSample.shape)\n",
    "            for z in range(len(cluster_center)):\n",
    "                distances = distances + DistanceFunction(cluster_center[z],assigned[j])\n",
    "            results = np.concatenate((distances,assigned[j]),axis = 1)\n",
    "            results = results[results[:,0].argsort()]\n",
    "            results = results[::-1]\n",
    "            #print(results)\n",
    "            #store the max value to a set for each cluster\n",
    "            final_set.append(results[0])\n",
    "        final_array = np.reshape(final_set,(-1,len(cluster_center[0])+1))  \n",
    "        final_array = final_array[final_array[:,0].argsort()]\n",
    "        final_array = final_array[::-1]  \n",
    "        #print(final_set[0])\n",
    "        #print(final_set[0,1:len(cluster_center[0])+1])\n",
    "        new_cluster = final_array[0,1:len(cluster_center[0])+1]\n",
    "        #print(new_cluster)\n",
    "        #append new cluster to cluster center\n",
    "        cluster_center = np.append(cluster_center, [new_cluster], axis=0)\n",
    "        #print(cluster_center)  \n",
    "    return cluster_center\n",
    "    #your code here"
   ]
  },
  {
   "cell_type": "markdown",
   "metadata": {},
   "source": [
    "Test Cell\n",
    "\n",
    "Call:\n",
    "\n",
    "~~~\n",
    "cluster_centers = k_means_plus_plus(X_train, 3, euclidean)\n",
    "print (cluster_centers)\n",
    "~~~\n",
    "\n",
    "Expected Output\n",
    "~~~\n",
    "[[107.  91.]\n",
    " [ 36.  25.]\n",
    " [122.  44.]]\n",
    "~~~"
   ]
  },
  {
   "cell_type": "code",
   "execution_count": 1276,
   "metadata": {},
   "outputs": [
    {
     "name": "stdout",
     "output_type": "stream",
     "text": [
      "[[107.  91.]\n",
      " [ 36.  25.]\n",
      " [122.  44.]]\n"
     ]
    }
   ],
   "source": [
    "cluster_centers = k_means_plus_plus(X_train, 3, euclidean)\n",
    "print (cluster_centers)"
   ]
  },
  {
   "cell_type": "markdown",
   "metadata": {},
   "source": [
    "plotPointsAndCenters\n",
    "\n",
    "Write a function called plot which will plot the dataset and the cluster centers on the same plot.\n",
    "\n",
    "Use the following conventions:\n",
    "\n",
    "- Use the \"point\" marker (\".\") for each of the samples\n",
    "- Use the \"up-arrow\" marker (\"^\") for the cluster centers\n",
    "- Use the same color for each cluster and cluster center.\n",
    "- Use the following colors for cluster 0..6\n",
    "~~~\n",
    "colors = [\"b\", \"g\", \"r\", \"c\", \"m\", \"y\", \"k\"]\n",
    "~~~\n",
    "eg. cluster index 0 and its datapoints are blue, cluster 1 is green, etc.\n",
    "\n",
    "Args:\n",
    "- X_train - The Training Set as a 2D numpy array\n",
    "- cluster_centers - The cluster centers, as initialized by k-means-plus-plus\n",
    "- DistanceFunction - the Distance Function used in computing cluster membership\n",
    "\n",
    "Returns: None\n"
   ]
  },
  {
   "cell_type": "code",
   "execution_count": 1277,
   "metadata": {},
   "outputs": [],
   "source": [
    "\n",
    "def plotPointsAndCenters (X_train, cluster_centers, DistanceFunction):\n",
    "    colors = [\"b\", \"g\", \"r\", \"c\", \"m\", \"y\", \"k\"]\n",
    "    counter = 0\n",
    "    #print(X_train)\n",
    "    #print(cluster_centers)\n",
    "    for x1,y1 in X_train:\n",
    "        distance = DistanceFunction([x1,y1],cluster_centers)\n",
    "        index = np.argmin(distance,axis=0)   \n",
    "        index = int(index)\n",
    "        plt.scatter(x1, y1, marker='.', c=colors[index])\n",
    "    for x,y in cluster_centers:\n",
    "        plt.scatter(x, y, marker='^', c=colors[counter])  \n",
    "        counter =counter + 1\n",
    "    plt.show()\n",
    "    #your code here"
   ]
  },
  {
   "attachments": {
    "image.png": {
     "image/png": "[encoded data removed]"
    }
   },
   "cell_type": "markdown",
   "metadata": {},
   "source": [
    "Test Cell\n",
    "\n",
    "Call:\n",
    "\n",
    "~~~\n",
    "cluster_centers = k_means_plus_plus(X_train, 3, euclidean)\n",
    "plotPointsAndCenters(X_train, cluster_centers, euclidean)\n",
    "~~~\n",
    "\n",
    "Expected Output\n",
    "![image.png](attachment:image.png)"
   ]
  },
  {
   "cell_type": "code",
   "execution_count": 1278,
   "metadata": {},
   "outputs": [
    {
     "data": {
      "image/png": "[encoded data removed]",
      "text/plain": [
       "<Figure size 432x288 with 1 Axes>"
      ]
     },
     "metadata": {
      "needs_background": "light"
     },
     "output_type": "display_data"
    }
   ],
   "source": [
    "cluster_centers = k_means_plus_plus(X_train, 3, euclidean)\n",
    "plotPointsAndCenters(X_train, cluster_centers, euclidean)"
   ]
  },
  {
   "cell_type": "markdown",
   "metadata": {},
   "source": [
    "Update\n",
    "\n",
    "Write a function which performs one iteration of coordinate descent for K-means, that is, assign each observation to the closest cluster center, then revises the cluster centres using the mean of the assigned observations.\n",
    "\n",
    "Arguments:\n",
    "- X_train - The Training Set as a 2D numpy array\n",
    "- cluster_centers - The cluster centers, after initialization\n",
    "- DistanceFunction - the Distance Function used in computing cluster membership\n",
    "\n",
    "Returns:\n",
    "- cluster_centers - The cluster centers after one iteration of training"
   ]
  },
  {
   "cell_type": "code",
   "execution_count": 1279,
   "metadata": {},
   "outputs": [],
   "source": [
    "def update (X_train, cluster_centers, DistanceFunction):\n",
    "    assigned = assign(X_train, cluster_centers, DistanceFunction)\n",
    "    update_cluster_center = np.empty((len(cluster_centers),len(cluster_centers[0])))\n",
    "    #print(update_cluster_center)\n",
    "    for i in range(len(assigned)):\n",
    "        z = np.mean(assigned[i],axis = 0)\n",
    "        cluster_centers[i] = z\n",
    "    #print(cluster_centers)   \n",
    "    return cluster_centers\n",
    "    #your code here"
   ]
  },
  {
   "attachments": {
    "image.png": {
     "image/png": "[encoded data removed]"
    }
   },
   "cell_type": "markdown",
   "metadata": {},
   "source": [
    "Test Cell\n",
    "\n",
    "Call:\n",
    "\n",
    "~~~\n",
    "cluster_centers = k_means_plus_plus(X_train, 3, euclidean)\n",
    "updated_cluster_centers = update(X_train, cluster_centers, euclidean)\n",
    "plotPointsAndCenters(X_train, updated_cluster_centers, euclidean)\n",
    "~~~\n",
    "\n",
    "Expected Output\n",
    "![image.png](attachment:image.png)"
   ]
  },
  {
   "cell_type": "code",
   "execution_count": 1280,
   "metadata": {},
   "outputs": [
    {
     "data": {
      "image/png": "[encoded data removed]",
      "text/plain": [
       "<Figure size 432x288 with 1 Axes>"
      ]
     },
     "metadata": {
      "needs_background": "light"
     },
     "output_type": "display_data"
    }
   ],
   "source": [
    "cluster_centers = k_means_plus_plus(X_train, 3, euclidean)\n",
    "updated_cluster_centers = update(X_train, cluster_centers, euclidean)\n",
    "plotPointsAndCenters(X_train, updated_cluster_centers, euclidean)"
   ]
  },
  {
   "cell_type": "markdown",
   "metadata": {},
   "source": [
    "Model Evaluation - Cluster Heterogenity\n",
    "\n",
    "Write a function to numerically evaluate our models fit, called Cluster Heterogeneity,  which returns the sum of all of the distances from each point to their cluster center\n",
    "\n",
    "Arguments:\n",
    "- X_train - The Training Set as a 2D numpy array\n",
    "- cluster_centers - The cluster centers, after initialization\n",
    "- DistanceFunction - the Distance Function used in computing cluster membership\n",
    "\n",
    "Returns: The sum of all distances from each point to its cluster center\n"
   ]
  },
  {
   "cell_type": "code",
   "execution_count": 1281,
   "metadata": {},
   "outputs": [],
   "source": [
    "def cluster_heterogeneity (X_train, cluster_centers, DistanceFunction):\n",
    "    assigned = assign(X_train, cluster_centers, DistanceFunction)\n",
    "    dist_sum = 0\n",
    "    for i in range(len(cluster_centers)):\n",
    "        distance = DistanceFunction(cluster_centers[i],assigned[i])\n",
    "        dist_sum = dist_sum + np.sum(distance)\n",
    "    return(dist_sum)\n",
    "        \n",
    "        \n",
    "    #your code here"
   ]
  },
  {
   "cell_type": "markdown",
   "metadata": {},
   "source": [
    "Test Cell\n",
    "\n",
    "Call:\n",
    "~~~\n",
    "cluster_heterogeneity(X_train, updated_cluster_centers, euclidean)\n",
    "~~~\n",
    "\n",
    "Expected Output:\n",
    "~~~\n",
    "73.13236208596943\n",
    "~~~"
   ]
  },
  {
   "cell_type": "code",
   "execution_count": 1282,
   "metadata": {},
   "outputs": [
    {
     "data": {
      "text/plain": [
       "73.13236208596943"
      ]
     },
     "execution_count": 1282,
     "metadata": {},
     "output_type": "execute_result"
    }
   ],
   "source": [
    "cluster_heterogeneity(X_train, updated_cluster_centers, euclidean)"
   ]
  },
  {
   "cell_type": "markdown",
   "metadata": {},
   "source": [
    "Train\n",
    "\n",
    "Write a function called train which performs a number of updates corresponding to the provided arguments.\n",
    "After each update, print the cluster heterogeneity\n",
    "\n",
    "Arguments:\n",
    "\n",
    "- X_train - The Training Set as a 2D numpy array\n",
    "- cluster_centers - The cluster centers, after initialization\n",
    "- DistanceFunction - the Distance Function used in computing cluster membership\n",
    "- iterations - the number of updates to be called\n",
    "\n",
    "Returns:\n",
    "\n",
    "- cluster_centers - The updated cluster_centers"
   ]
  },
  {
   "cell_type": "code",
   "execution_count": 1300,
   "metadata": {},
   "outputs": [],
   "source": [
    "def train (X_train, cluster_centers, DistanceFunction, iterations):  \n",
    "    for i in range(iterations):\n",
    "        cluster_centers = update(X_train, cluster_centers, DistanceFunction)\n",
    "    print(cluster_heterogeneity(X_train, cluster_centers, DistanceFunction))\n",
    "    return cluster_centers\n",
    "    \n",
    "    #your code here"
   ]
  },
  {
   "cell_type": "markdown",
   "metadata": {},
   "source": [
    "Note, this function will not change the output for the previous example, as no points will change clusters in the next iteration. This funcion is only useful for larger datasets as we'll see in the next section"
   ]
  },
  {
   "cell_type": "markdown",
   "metadata": {},
   "source": [
    "## Part 3: Testing on a Real Dataset (30 Marks)\n",
    "\n",
    "It's time to test these algorithms on a real world dataset. This dataset (Company_Client.csv) contains Genders, Ages, Annual Income and Spending Scores. Spending Scores indicate how willing an individual is to spend their money, with higher values meaning they spend more, and lower values meaning they save more. Follow along with the cells to analyze the data using the algorithms you created:\n"
   ]
  },
  {
   "cell_type": "markdown",
   "metadata": {},
   "source": [
    "import pandas"
   ]
  },
  {
   "cell_type": "code",
   "execution_count": 1301,
   "metadata": {},
   "outputs": [],
   "source": [
    "#your code here\n",
    "import pandas as pd"
   ]
  },
  {
   "cell_type": "markdown",
   "metadata": {},
   "source": [
    "open the CSV"
   ]
  },
  {
   "cell_type": "code",
   "execution_count": 1302,
   "metadata": {},
   "outputs": [
    {
     "data": {
      "text/html": [
       "<div>\n",
       "<style scoped>\n",
       "    .dataframe tbody tr th:only-of-type {\n",
       "        vertical-align: middle;\n",
       "    }\n",
       "\n",
       "    .dataframe tbody tr th {\n",
       "        vertical-align: top;\n",
       "    }\n",
       "\n",
       "    .dataframe thead th {\n",
       "        text-align: right;\n",
       "    }\n",
       "</style>\n",
       "<table border=\"1\" class=\"dataframe\">\n",
       "  <thead>\n",
       "    <tr style=\"text-align: right;\">\n",
       "      <th></th>\n",
       "      <th>Client_ID</th>\n",
       "      <th>Genre</th>\n",
       "      <th>Age</th>\n",
       "      <th>Annual Income (k$)</th>\n",
       "      <th>Spending Score (1-100)</th>\n",
       "    </tr>\n",
       "  </thead>\n",
       "  <tbody>\n",
       "    <tr>\n",
       "      <th>0</th>\n",
       "      <td>1</td>\n",
       "      <td>Male</td>\n",
       "      <td>19</td>\n",
       "      <td>15</td>\n",
       "      <td>39</td>\n",
       "    </tr>\n",
       "    <tr>\n",
       "      <th>1</th>\n",
       "      <td>2</td>\n",
       "      <td>Male</td>\n",
       "      <td>21</td>\n",
       "      <td>15</td>\n",
       "      <td>81</td>\n",
       "    </tr>\n",
       "    <tr>\n",
       "      <th>2</th>\n",
       "      <td>3</td>\n",
       "      <td>Female</td>\n",
       "      <td>20</td>\n",
       "      <td>16</td>\n",
       "      <td>6</td>\n",
       "    </tr>\n",
       "    <tr>\n",
       "      <th>3</th>\n",
       "      <td>4</td>\n",
       "      <td>Female</td>\n",
       "      <td>23</td>\n",
       "      <td>16</td>\n",
       "      <td>77</td>\n",
       "    </tr>\n",
       "    <tr>\n",
       "      <th>4</th>\n",
       "      <td>5</td>\n",
       "      <td>Female</td>\n",
       "      <td>31</td>\n",
       "      <td>17</td>\n",
       "      <td>40</td>\n",
       "    </tr>\n",
       "  </tbody>\n",
       "</table>\n",
       "</div>"
      ],
      "text/plain": [
       "   Client_ID   Genre  Age  Annual Income (k$)  Spending Score (1-100)\n",
       "0          1    Male   19                  15                      39\n",
       "1          2    Male   21                  15                      81\n",
       "2          3  Female   20                  16                       6\n",
       "3          4  Female   23                  16                      77\n",
       "4          5  Female   31                  17                      40"
      ]
     },
     "execution_count": 1302,
     "metadata": {},
     "output_type": "execute_result"
    }
   ],
   "source": [
    "#your code here\n",
    "dataframe =  pd.read_csv(\"Company_Client.csv\")\n",
    "dataframe.head()"
   ]
  },
  {
   "cell_type": "markdown",
   "metadata": {},
   "source": [
    "list the first few rows of the dataset"
   ]
  },
  {
   "cell_type": "code",
   "execution_count": 1303,
   "metadata": {},
   "outputs": [
    {
     "data": {
      "image/png": "[encoded data removed]",
      "text/plain": [
       "<Figure size 432x288 with 1 Axes>"
      ]
     },
     "metadata": {
      "needs_background": "light"
     },
     "output_type": "display_data"
    },
    {
     "data": {
      "text/plain": [
       "0    15\n",
       "1    15\n",
       "2    16\n",
       "3    16\n",
       "4    17\n",
       "Name: Annual Income (k$), dtype: int64"
      ]
     },
     "execution_count": 1303,
     "metadata": {},
     "output_type": "execute_result"
    }
   ],
   "source": [
    "#your code here\n",
    "x = dataframe[\"Annual Income (k$)\"]\n",
    "y = dataframe[\"Spending Score (1-100)\"]\n",
    "plt.scatter(x, y)\n",
    "plt.title(\"Annual Income vs Spending Score\")\n",
    "plt.xlabel(\"Annual Income\")\n",
    "plt.ylabel(\"Spending Score\")\n",
    "plt.show()\n",
    "x.head()\n",
    "#y.head()"
   ]
  },
  {
   "cell_type": "markdown",
   "metadata": {},
   "source": [
    "create a scatter plot of the Annual Income vs the Spending Score"
   ]
  },
  {
   "cell_type": "code",
   "execution_count": 1304,
   "metadata": {},
   "outputs": [],
   "source": [
    "#your code here\n",
    "x = np.array(x)\n",
    "x = np.reshape(x,(-1,1))\n",
    "#print (x)\n",
    "y = np.array(y)\n",
    "y = np.reshape(y,(-1,1))"
   ]
  },
  {
   "cell_type": "markdown",
   "metadata": {},
   "source": [
    "Using weighted K-Nearest Neighbor with the euclidean function, where K=10, predict the expected age of a the person with the following income and spending patterns:"
   ]
  },
  {
   "cell_type": "code",
   "execution_count": 1305,
   "metadata": {},
   "outputs": [
    {
     "name": "stdout",
     "output_type": "stream",
     "text": [
      "46.69999375214754\n",
      "52.634579200522765\n",
      "46.69997503431808\n",
      "47.11522368914975\n"
     ]
    }
   ],
   "source": [
    "X_train = x#your code here\n",
    "Y_train = y#your code here\n",
    "k = 10#your code here\n",
    "# Test case 1: Makes big money but doesn't spend it\n",
    "x_test_1 = np.array([[100, 20]])\n",
    "# Test case 2: Makes big money and does spend it\n",
    "x_test_2 = np.array([[100, 80]])\n",
    "# Test case 3: Doesn't make much money, but spends it\n",
    "x_test_3 = np.array([[40, 80]])\n",
    "# Test case 3: Doesn't make much money, and doesn't spends it\n",
    "x_test_4 = np.array([[20, 20]])\n",
    "\n",
    "print (predictWeightedkNN(kNearestNeighbours(X_train, Y_train, x_test_1, euclidean, k)))\n",
    "print (predictWeightedkNN(kNearestNeighbours(X_train, Y_train, x_test_2, euclidean, k)))\n",
    "print (predictWeightedkNN(kNearestNeighbours(X_train, Y_train, x_test_3, euclidean, k)))\n",
    "print (predictWeightedkNN(kNearestNeighbours(X_train, Y_train, x_test_4, euclidean, k)))"
   ]
  },
  {
   "cell_type": "markdown",
   "metadata": {},
   "source": [
    "Now we are going to try to cluster our data based on the Annual Income and Spending Score values.\n",
    "\n",
    "We are going to make 3 models, one with 3 clusters, one with 5 clusters and one with 7 clusters.\n",
    "\n",
    "Complete the function Evaluate Model below\n",
    "\n",
    "This function should:\n",
    "- Initialize the weights with K-means-++\n",
    "- Perform a number of iterations of updates\n",
    "- Plot the data\n",
    "- Compute the final cluster_heterogenity"
   ]
  },
  {
   "cell_type": "code",
   "execution_count": 1306,
   "metadata": {},
   "outputs": [],
   "source": [
    "def evaluate_model (X_train, k, DistanceFunction, iterations):\n",
    "    cluster_centers = k_means_plus_plus(X_train, k, DistanceFunction)\n",
    "    cluster_centers = train(X_train, cluster_centers, DistanceFunction, iterations)\n",
    "    plotPointsAndCenters(X_train, cluster_centers, DistanceFunction)\n",
    "    #your code here"
   ]
  },
  {
   "cell_type": "markdown",
   "metadata": {},
   "source": [
    "Now use your function to create and plot clusters for k=3, k=5 and k=7. Use 10 iterations, though they may not all be necessary."
   ]
  },
  {
   "cell_type": "code",
   "execution_count": 1307,
   "metadata": {},
   "outputs": [
    {
     "name": "stdout",
     "output_type": "stream",
     "text": [
      "3899.705512700313\n"
     ]
    },
    {
     "data": {
      "image/png": "[encoded data removed]",
      "text/plain": [
       "<Figure size 432x288 with 1 Axes>"
      ]
     },
     "metadata": {
      "needs_background": "light"
     },
     "output_type": "display_data"
    }
   ],
   "source": [
    "#your code here\n",
    "X_train = np.concatenate((x,y),axis = 1)\n",
    "#evaluate_model(X_train, 3,euclidean , 10)\n",
    "\"\"\"cluster_centers = k_means_plus_plus(X_train, 3, euclidean)\n",
    "cluster_centers = train(X_train, cluster_centers, euclidean, 10)\n",
    "plotPointsAndCenters(X_train, cluster_centers, euclidean)\"\"\"\n",
    "evaluate_model (X_train, 3,euclidean , 10)"
   ]
  },
  {
   "cell_type": "code",
   "execution_count": 1308,
   "metadata": {},
   "outputs": [
    {
     "name": "stdout",
     "output_type": "stream",
     "text": [
      "2604.0252701583486\n"
     ]
    },
    {
     "data": {
      "image/png": "[encoded data removed]",
      "text/plain": [
       "<Figure size 432x288 with 1 Axes>"
      ]
     },
     "metadata": {
      "needs_background": "light"
     },
     "output_type": "display_data"
    }
   ],
   "source": [
    "#your code here\n",
    "evaluate_model (X_train, 5,euclidean , 10)"
   ]
  },
  {
   "cell_type": "code",
   "execution_count": 1309,
   "metadata": {},
   "outputs": [
    {
     "name": "stdout",
     "output_type": "stream",
     "text": [
      "2269.809744866629\n"
     ]
    },
    {
     "data": {
      "image/png": "[encoded data removed]",
      "text/plain": [
       "<Figure size 432x288 with 1 Axes>"
      ]
     },
     "metadata": {
      "needs_background": "light"
     },
     "output_type": "display_data"
    }
   ],
   "source": [
    "#your code here\n",
    "evaluate_model (X_train, 7,euclidean , 10)"
   ]
  },
  {
   "cell_type": "markdown",
   "metadata": {},
   "source": [
    "Test Cell\n",
    "\n",
    "Expected Cluster Heterogeneity Values after training, not necessarily in order:\n",
    "~~~\n",
    "2600.012523991301\n",
    "2291.907654431063\n",
    "3904.2584173001987\n",
    "~~~"
   ]
  },
  {
   "cell_type": "markdown",
   "metadata": {},
   "source": [
    "Based on your findings, which is the best model and why?"
   ]
  },
  {
   "cell_type": "code",
   "execution_count": 1310,
   "metadata": {},
   "outputs": [],
   "source": [
    "#your thoughts here\n",
    "#When data is very close to each other ,K-Nearest is a beter choice\n",
    "#When data is located dispersive and each of them was kind of centered, clustering is beter"
   ]
  },
  {
   "cell_type": "code",
   "execution_count": null,
   "metadata": {},
   "outputs": [],
   "source": []
  }
 ],
 "metadata": {
  "kernelspec": {
   "display_name": "Python 3",
   "language": "python",
   "name": "python3"
  },
  "language_info": {
   "codemirror_mode": {
    "name": "ipython",
    "version": 3
   },
   "file_extension": ".py",
   "mimetype": "text/x-python",
   "name": "python",
   "nbconvert_exporter": "python",
   "pygments_lexer": "ipython3",
   "version": "3.8.3"
  }
 },
 "nbformat": 4,
 "nbformat_minor": 4
}
