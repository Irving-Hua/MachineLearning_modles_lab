{
  "nbformat": 4,
  "nbformat_minor": 0,
  "metadata": {
    "kernelspec": {
      "display_name": "Python 3",
      "language": "python",
      "name": "python3"
    },
    "language_info": {
      "codemirror_mode": {
        "name": "ipython",
        "version": 3
      },
      "file_extension": ".py",
      "mimetype": "text/x-python",
      "name": "python",
      "nbconvert_exporter": "python",
      "pygments_lexer": "ipython3",
      "version": "3.8.3"
    },
    "colab": {
      "name": "lab-5-student.ipynb",
      "provenance": [],
      "collapsed_sections": []
    },
    "accelerator": "GPU"
  },
  "cells": [
    {
      "cell_type": "markdown",
      "metadata": {
        "id": "JuKYG347dLII"
      },
      "source": [
        "## ENSE 496AD - Lab 5 - Rapid Development using TensorFlow and Keras\n",
        "\n",
        "In this lab you will learn to use the use the Keras Tensorflow API to rapidly prototype and test Machine Learning algorithms. You will start with a tutorial model, and then extend it to accomplish a more complicated use case.\n",
        "\n",
        "First you will use TensorFlow / Keras to classify MNIST digits, starting with a simple Fully Connected Neural Network, then extending it to a Convolutional Neural Network. Finally, you will use what you learned to apply these techniques to classifying general images from the CIFAR dataset.\n",
        "\n",
        "The following cells include code from the tutorial here: \n",
        "https://www.tensorflow.org/tutorials/quickstart/beginner\n",
        "\n",
        "Feel free to read their comments and documentation in anything if there is anything in this workbook you don't understand."
      ]
    },
    {
      "cell_type": "markdown",
      "metadata": {
        "id": "IXOEEBGOdLIO"
      },
      "source": [
        "### Part 1 - MNIST Classification using Tensorflow / Keras and a Fully Connected Network\n",
        "\n",
        "In this part of the notebook you will follow along with a tutorial for classifying MNIST digits using TensorFlow / Keras.\n",
        "\n",
        "Begin by importing TensorFlow, downloading the MNIST dataset, and then creating training and test sets"
      ]
    },
    {
      "cell_type": "code",
      "metadata": {
        "id": "XL85PBDddLIP"
      },
      "source": [
        "import tensorflow as tf\n",
        "import matplotlib.pyplot as plt\n",
        "import numpy as np\n",
        "%matplotlib inline\n",
        "\n",
        "mnist = tf.keras.datasets.mnist\n",
        "(x_train, y_train), (x_test, y_test) = mnist.load_data()\n",
        "\n",
        "# MNIST pixel values are in the range of 0...255, and we want\n",
        "# them to be in the range of 0...1, so we divide each sample by 255.0\n",
        "\n",
        "x_train, x_test = x_train / 255.0, x_test / 255.0"
      ],
      "execution_count": 69,
      "outputs": []
    },
    {
      "cell_type": "markdown",
      "metadata": {
        "id": "UbRLKTYmdLIQ"
      },
      "source": [
        "Let's visualize one of the digits from our training set"
      ]
    },
    {
      "cell_type": "code",
      "metadata": {
        "colab": {
          "base_uri": "https://localhost:8080/",
          "height": 265
        },
        "id": "kUfxUxREdLIR",
        "outputId": "bac014c2-a8a3-4f1c-9eb5-aaa1eaef060d"
      },
      "source": [
        "sample = x_train[:1]\n",
        "plt.imshow(sample[0], interpolation='nearest', cmap=\"gray\")\n",
        "plt.show()"
      ],
      "execution_count": 70,
      "outputs": [
        {
          "output_type": "display_data",
          "data": {
            "image/png": "[encoded data removed]",
            "text/plain": [
              "<Figure size 432x288 with 1 Axes>"
            ]
          },
          "metadata": {
            "tags": [],
            "needs_background": "light"
          }
        }
      ]
    },
    {
      "cell_type": "markdown",
      "metadata": {
        "id": "TYsJEfV8dLIR"
      },
      "source": [
        "In the next cell we will define our model. Models in Keras / TensorFlow are like data structures - they define the overall shape and operations of our model, but will not actually train until we explicity tell them to."
      ]
    },
    {
      "cell_type": "code",
      "metadata": {
        "id": "V0TuMtsOdLIS"
      },
      "source": [
        "model = tf.keras.models.Sequential([\n",
        "  tf.keras.layers.Flatten(input_shape=(28, 28)), # flatten operation unrows an image - now each pixel is just a number from 0.0 to 1.0\n",
        "  tf.keras.layers.Dense(128, activation='relu'), # linear (wx + b) with 128 output nodes. How many learnable parameters in this layer?\n",
        "  tf.keras.layers.Dense(10) # Output is 10 nodes, because we have 10 classes.  How many learnable parameters here?\n",
        "])"
      ],
      "execution_count": 71,
      "outputs": []
    },
    {
      "cell_type": "markdown",
      "metadata": {
        "id": "Idv4DnEcdLIT"
      },
      "source": [
        "In the next cell, we will compute the scores for our model. The higher the value, the more likely that the sample belongs to a given class. Because we have not trained our model yet, these values are random. You may ignore the deprecation warning if you see one."
      ]
    },
    {
      "cell_type": "code",
      "metadata": {
        "colab": {
          "base_uri": "https://localhost:8080/"
        },
        "id": "I2_48dWydLIT",
        "outputId": "78622729-2b38-497a-ccf5-1ef80d7fc072"
      },
      "source": [
        "scores = model(sample).numpy()\n",
        "print (\"Scores: \", scores)"
      ],
      "execution_count": 72,
      "outputs": [
        {
          "output_type": "stream",
          "text": [
            "Scores:  [[ 0.49069095  0.99980295  0.24156685  0.24986252 -0.67439544  0.28085417\n",
            "   0.06124504 -0.22611523  0.8431674  -0.34390736]]\n"
          ],
          "name": "stdout"
        }
      ]
    },
    {
      "cell_type": "markdown",
      "metadata": {
        "id": "RuLEomQxdLIU"
      },
      "source": [
        "Now we will use the softmax function, which maps scores to probabilities. The higher the probability, the more likely that the test sample belongs to a given class, but again, remember that the values are still random."
      ]
    },
    {
      "cell_type": "code",
      "metadata": {
        "colab": {
          "base_uri": "https://localhost:8080/"
        },
        "id": "VN5QaS8jdLIU",
        "outputId": "f81ce492-80c6-48e7-823f-341745793341"
      },
      "source": [
        "probabilities = tf.nn.softmax(scores).numpy()\n",
        "print (\"Probabilities: \", probabilities)"
      ],
      "execution_count": 73,
      "outputs": [
        {
          "output_type": "stream",
          "text": [
            "Probabilities:  [[0.11979349 0.19931398 0.09337701 0.09415486 0.03736307 0.09711856\n",
            "  0.07796995 0.05849629 0.17041656 0.05199622]]\n"
          ],
          "name": "stdout"
        }
      ]
    },
    {
      "cell_type": "markdown",
      "metadata": {
        "id": "ecpXbQ0BdLIV"
      },
      "source": [
        "Finally, using argmax, we can predict a class for our sample. Again, this is just random, so don't worry about the results!"
      ]
    },
    {
      "cell_type": "code",
      "metadata": {
        "colab": {
          "base_uri": "https://localhost:8080/"
        },
        "id": "0i4tVmPedLIV",
        "outputId": "787c0d22-3f66-4060-c6a7-d8f36c25394a"
      },
      "source": [
        "label = np.argmax(probabilities)\n",
        "print (\"label: \", label)"
      ],
      "execution_count": 74,
      "outputs": [
        {
          "output_type": "stream",
          "text": [
            "label:  1\n"
          ],
          "name": "stdout"
        }
      ]
    },
    {
      "cell_type": "markdown",
      "metadata": {
        "id": "nYOYhhzSdLIV"
      },
      "source": [
        "Now we will compute our loss function for our sample. This is explained as following in the tutorial:\n",
        "\n",
        "\"This loss is equal to the negative log probability of the true class: It is zero if the model is sure of the correct class.\n",
        "\n",
        "This untrained model gives probabilities close to random (1/10 for each class), so the initial loss should be close to -tf.log(1/10) ~= 2.3.\""
      ]
    },
    {
      "cell_type": "code",
      "metadata": {
        "colab": {
          "base_uri": "https://localhost:8080/"
        },
        "id": "_V2gNx4cdLIW",
        "outputId": "b5d40858-f201-4855-f7c6-17649761b583"
      },
      "source": [
        "loss_fn = tf.keras.losses.SparseCategoricalCrossentropy(from_logits=True)\n",
        "print(\"loss:\", loss_fn(y_train[:1], probabilities).numpy())"
      ],
      "execution_count": 75,
      "outputs": [
        {
          "output_type": "stream",
          "text": [
            "loss: 2.3066683\n"
          ],
          "name": "stdout"
        }
      ]
    },
    {
      "cell_type": "markdown",
      "metadata": {
        "id": "mTJPEUlidLIW"
      },
      "source": [
        "In order to train our model, we must first compile it. In this step we must specify the training method (optimization, such as stochastic gradient descent (sgd)), and the loss function, which we defined earlier."
      ]
    },
    {
      "cell_type": "code",
      "metadata": {
        "id": "i8x8vsOHdLIX"
      },
      "source": [
        "model.compile(optimizer='sgd',\n",
        "              loss=loss_fn,\n",
        "              metrics=['accuracy'])\n"
      ],
      "execution_count": 76,
      "outputs": []
    },
    {
      "cell_type": "markdown",
      "metadata": {
        "id": "1SX1V66MdLIX"
      },
      "source": [
        "We can get some additional information about our model using the following cell. Do the number of parameters match what we would expect?"
      ]
    },
    {
      "cell_type": "code",
      "metadata": {
        "colab": {
          "base_uri": "https://localhost:8080/"
        },
        "id": "E5qJVoRDdLIX",
        "outputId": "c1121610-6d27-4ee7-d003-252281597b20"
      },
      "source": [
        "model.summary()"
      ],
      "execution_count": 77,
      "outputs": [
        {
          "output_type": "stream",
          "text": [
            "Model: \"sequential_18\"\n",
            "_________________________________________________________________\n",
            "Layer (type)                 Output Shape              Param #   \n",
            "=================================================================\n",
            "flatten_24 (Flatten)         (None, 784)               0         \n",
            "_________________________________________________________________\n",
            "dense_25 (Dense)             (None, 128)               100480    \n",
            "_________________________________________________________________\n",
            "dense_26 (Dense)             (None, 10)                1290      \n",
            "=================================================================\n",
            "Total params: 101,770\n",
            "Trainable params: 101,770\n",
            "Non-trainable params: 0\n",
            "_________________________________________________________________\n"
          ],
          "name": "stdout"
        }
      ]
    },
    {
      "cell_type": "markdown",
      "metadata": {
        "id": "Wx2Ig0eedLIY"
      },
      "source": [
        "The following cell actually trains the model, by feeding in our dataset, computing gradients, and updating weights, but this is all abstracted away. The learned parameters are saved after the training completes, so as long as you do not recompile your model, you could keep running this cell to continually train the model, 5 epochs at a time. Additionally, the first line of code is Jupyter \"magic\" to  time a single training pass, so you can see how long it takes. My 2GPU deep learning machine takes 14.5 seconds. Google colab takes about 16 seconds."
      ]
    },
    {
      "cell_type": "code",
      "metadata": {
        "colab": {
          "base_uri": "https://localhost:8080/"
        },
        "id": "omPQIoXXdLIY",
        "outputId": "857b7fb7-f9dc-4906-e3bf-3419bb66dd86"
      },
      "source": [
        "%%timeit -n 1 -r 1\n",
        "model.fit(x_train, y_train, epochs=5)"
      ],
      "execution_count": 78,
      "outputs": [
        {
          "output_type": "stream",
          "text": [
            "Epoch 1/5\n",
            "1875/1875 [==============================] - 3s 2ms/step - loss: 0.6490 - accuracy: 0.8367\n",
            "Epoch 2/5\n",
            "1875/1875 [==============================] - 3s 2ms/step - loss: 0.3364 - accuracy: 0.9062\n",
            "Epoch 3/5\n",
            "1875/1875 [==============================] - 3s 2ms/step - loss: 0.2872 - accuracy: 0.9187\n",
            "Epoch 4/5\n",
            "1875/1875 [==============================] - 3s 2ms/step - loss: 0.2562 - accuracy: 0.9281\n",
            "Epoch 5/5\n",
            "1875/1875 [==============================] - 3s 2ms/step - loss: 0.2325 - accuracy: 0.9344\n",
            "1 loop, best of 1: 16.3 s per loop\n"
          ],
          "name": "stdout"
        }
      ]
    },
    {
      "cell_type": "markdown",
      "metadata": {
        "id": "qgCLgqpMdLIZ"
      },
      "source": [
        "Let's use the trained model to classify our test sample from earlier. Does it predict correctly?"
      ]
    },
    {
      "cell_type": "code",
      "metadata": {
        "colab": {
          "base_uri": "https://localhost:8080/"
        },
        "id": "yyjUhXr6dLIZ",
        "outputId": "6afffedc-b282-4e10-c13c-6aa32200d482"
      },
      "source": [
        "scores = model(sample).numpy()\n",
        "print (\"Scores: \", scores)\n",
        "probabilities = tf.nn.softmax(scores).numpy()\n",
        "print (\"Probabilities: \", probabilities)\n",
        "label = np.argmax(probabilities)\n",
        "print (\"label: \", label)\n",
        "loss_fn = tf.keras.losses.SparseCategoricalCrossentropy(from_logits=True)\n",
        "print(\"loss:\", loss_fn(y_train[:1], probabilities).numpy())"
      ],
      "execution_count": 79,
      "outputs": [
        {
          "output_type": "stream",
          "text": [
            "Scores:  [[ 1.0490459  -2.493275    1.5679827   4.7722387  -6.7006564   7.5201564\n",
            "  -2.6503074   0.7415231   0.4073321  -0.30178863]]\n",
            "Probabilities:  [[1.4453952e-03 4.1838495e-05 2.4286108e-03 5.9834085e-02 6.2277849e-07\n",
            "  9.3401557e-01 3.5758389e-05 1.0627501e-03 7.6084066e-04 3.7439194e-04]]\n",
            "label:  5\n",
            "loss: 1.5180684\n"
          ],
          "name": "stdout"
        }
      ]
    },
    {
      "cell_type": "markdown",
      "metadata": {
        "id": "DqtH-odYdLIZ"
      },
      "source": [
        "Are we overfit? What is the test loss?"
      ]
    },
    {
      "cell_type": "code",
      "metadata": {
        "colab": {
          "base_uri": "https://localhost:8080/"
        },
        "id": "vQEMf_tqdLIa",
        "outputId": "ba7711fe-1949-4ae4-9358-7efcafff595a"
      },
      "source": [
        "test_loss, test_acc = model.evaluate(x_test, y_test, verbose=0)\n",
        "print (\"test loss:\", test_loss)\n",
        "print (\"test accuracy:\", test_acc)"
      ],
      "execution_count": 80,
      "outputs": [
        {
          "output_type": "stream",
          "text": [
            "test loss: 0.2159201204776764\n",
            "test accuracy: 0.939300000667572\n"
          ],
          "name": "stdout"
        }
      ]
    },
    {
      "cell_type": "markdown",
      "metadata": {
        "id": "4aLy_cQ6dLIa"
      },
      "source": [
        "Let's try one more pass of training to see if the results improve"
      ]
    },
    {
      "cell_type": "code",
      "metadata": {
        "colab": {
          "base_uri": "https://localhost:8080/"
        },
        "id": "5wIuM2oCdLIa",
        "outputId": "bf8c7718-a5ac-495a-8d4f-123f08f6136d"
      },
      "source": [
        "%%timeit -n 1 -r 1\n",
        "model.fit(x_train, y_train, epochs=5)"
      ],
      "execution_count": 81,
      "outputs": [
        {
          "output_type": "stream",
          "text": [
            "Epoch 1/5\n",
            "1875/1875 [==============================] - 3s 2ms/step - loss: 0.2137 - accuracy: 0.9397\n",
            "Epoch 2/5\n",
            "1875/1875 [==============================] - 3s 2ms/step - loss: 0.1978 - accuracy: 0.9443\n",
            "Epoch 3/5\n",
            "1875/1875 [==============================] - 3s 2ms/step - loss: 0.1841 - accuracy: 0.9485\n",
            "Epoch 4/5\n",
            "1875/1875 [==============================] - 3s 2ms/step - loss: 0.1724 - accuracy: 0.9514\n",
            "Epoch 5/5\n",
            "1875/1875 [==============================] - 3s 2ms/step - loss: 0.1622 - accuracy: 0.9546\n",
            "1 loop, best of 1: 16.1 s per loop\n"
          ],
          "name": "stdout"
        }
      ]
    },
    {
      "cell_type": "markdown",
      "metadata": {
        "id": "tjWWie8IdLIb"
      },
      "source": [
        "Let's benchmark our new sample. Did it predict correctly? Did the loss decrease?"
      ]
    },
    {
      "cell_type": "code",
      "metadata": {
        "colab": {
          "base_uri": "https://localhost:8080/"
        },
        "id": "jjhk27BrdLIb",
        "outputId": "8a708dbd-3215-4935-ccbd-654ecd978dd0"
      },
      "source": [
        "scores = model(sample).numpy()\n",
        "print (\"Scores: \", scores)\n",
        "probabilities = tf.nn.softmax(scores).numpy()\n",
        "print (\"P`brobabilities: \", probabilities)\n",
        "label = np.argmax(probabilities)\n",
        "print (\"label: \", label)\n",
        "loss_fn = tf.keras.losses.SparseCategoricalCrossentropy(from_logits=True)\n",
        "print(\"loss:\", loss_fn(y_train[:1], probabilities).numpy())"
      ],
      "execution_count": 82,
      "outputs": [
        {
          "output_type": "stream",
          "text": [
            "Scores:  [[ 0.1524478 -1.9390508  2.476628   5.7053056 -8.027912   9.756088\n",
            "  -3.433424   0.5397663 -0.3379607 -0.2989412]]\n",
            "P`brobabilities:  [[6.6265988e-05 8.1839780e-06 6.7712594e-04 1.7094886e-02 1.8561176e-08\n",
            "  9.8197120e-01 1.8363961e-06 9.7611497e-05 4.0579733e-05 4.2194395e-05]]\n",
            "label:  5\n",
            "loss: 1.476582\n"
          ],
          "name": "stdout"
        }
      ]
    },
    {
      "cell_type": "markdown",
      "metadata": {
        "id": "yNlZ4DMFdLIc"
      },
      "source": [
        "Again, check to see if we are overfit"
      ]
    },
    {
      "cell_type": "code",
      "metadata": {
        "colab": {
          "base_uri": "https://localhost:8080/"
        },
        "id": "AnR807jedLId",
        "outputId": "0c1b35a7-5018-4f68-f738-e8bc4817826b"
      },
      "source": [
        "test_loss, test_acc = model.evaluate(x_test, y_test, verbose=0)\n",
        "print (\"test loss:\", test_loss)\n",
        "print (\"test accuracy:\", test_acc)"
      ],
      "execution_count": 83,
      "outputs": [
        {
          "output_type": "stream",
          "text": [
            "test loss: 0.1582278162240982\n",
            "test accuracy: 0.9552000164985657\n"
          ],
          "name": "stdout"
        }
      ]
    },
    {
      "cell_type": "markdown",
      "metadata": {
        "id": "4MrAbPkWdLId"
      },
      "source": [
        "This model is good for learning about TensorFlow and Keras, but does not employ all of the industry standard optimizations in image classification. In the next cell we will iterate to a better model for image classification using Convolutional Neural Networks."
      ]
    },
    {
      "cell_type": "markdown",
      "metadata": {
        "id": "Gu5qmUJBdLId"
      },
      "source": [
        "### Part 2: MNIST Classification using TensorFlow / Keras and a Convolutional Neural Network\n",
        "\n",
        "In this part of the workbook, you will modify the previous model, which is still pretty good, to using industry standard techniques for image classification."
      ]
    },
    {
      "cell_type": "markdown",
      "metadata": {
        "id": "P80O5ezadLIe"
      },
      "source": [
        "In this section you will refactor the code to use Conv2D layers in place of Desnse layers. Build the following network:\n",
        "- Conv2D with 2 kernels of size 3x3, relu activation, appropriate input\n",
        "- Conv2D with 4 kernels of size 3x3, relu activation\n",
        "- Conv2D with 8 kernels of size 3x3, relu activation\n",
        "- Flatten\n",
        "- Dense with 10 outputs"
      ]
    },
    {
      "cell_type": "code",
      "metadata": {
        "id": "OYMF4bgBdLIe"
      },
      "source": [
        "model = tf.keras.models.Sequential([\n",
        "    # your code here!\n",
        "    tf.keras.layers.Conv2D(2, (3, 3),input_shape=(28, 28,1), activation='relu'), \n",
        "    tf.keras.layers.Conv2D(4, (3, 3), activation='relu'),\n",
        "    tf.keras.layers.Conv2D(8, (3, 3), activation='relu'),\n",
        "    tf.keras.layers.Flatten(),\n",
        "    tf.keras.layers.Dense(10)\n",
        "])"
      ],
      "execution_count": 84,
      "outputs": []
    },
    {
      "cell_type": "markdown",
      "metadata": {
        "id": "O7XbsL0AdLIe"
      },
      "source": [
        "Recompile and run your model. Try using the Adaptive Momentum (Adam) Optimizer."
      ]
    },
    {
      "cell_type": "code",
      "metadata": {
        "id": "U2Pflk6-dLIf"
      },
      "source": [
        "model.compile(optimizer='Adam',\r\n",
        "              loss=loss_fn,\r\n",
        "              metrics=['accuracy'])"
      ],
      "execution_count": 85,
      "outputs": []
    },
    {
      "cell_type": "markdown",
      "metadata": {
        "id": "0JpmJLxQdLIf"
      },
      "source": [
        "Preview your model below:"
      ]
    },
    {
      "cell_type": "code",
      "metadata": {
        "colab": {
          "base_uri": "https://localhost:8080/"
        },
        "id": "FO_gvMUmdLIf",
        "outputId": "6934454f-fbca-424f-fcd7-b886a9ce043a"
      },
      "source": [
        "model.summary()"
      ],
      "execution_count": 86,
      "outputs": [
        {
          "output_type": "stream",
          "text": [
            "Model: \"sequential_19\"\n",
            "_________________________________________________________________\n",
            "Layer (type)                 Output Shape              Param #   \n",
            "=================================================================\n",
            "conv2d_56 (Conv2D)           (None, 26, 26, 2)         20        \n",
            "_________________________________________________________________\n",
            "conv2d_57 (Conv2D)           (None, 24, 24, 4)         76        \n",
            "_________________________________________________________________\n",
            "conv2d_58 (Conv2D)           (None, 22, 22, 8)         296       \n",
            "_________________________________________________________________\n",
            "flatten_25 (Flatten)         (None, 3872)              0         \n",
            "_________________________________________________________________\n",
            "dense_27 (Dense)             (None, 10)                38730     \n",
            "=================================================================\n",
            "Total params: 39,122\n",
            "Trainable params: 39,122\n",
            "Non-trainable params: 0\n",
            "_________________________________________________________________\n"
          ],
          "name": "stdout"
        }
      ]
    },
    {
      "cell_type": "markdown",
      "metadata": {
        "id": "MIn-0jX4dLIg"
      },
      "source": [
        "The following code block will interpret the training and test set as images, which is required for the Conv2D Layer:"
      ]
    },
    {
      "cell_type": "code",
      "metadata": {
        "id": "YeAZi1xsdLIg"
      },
      "source": [
        "# 28 x 28 x 1 = 28 x 28 pixels by 1 channel (grayscale). Note that color (RGB) images have 3 channels.\n",
        "x_train = x_train.reshape((x_train.shape[0], 28, 28, 1))\n",
        "x_test = x_test.reshape((x_test.shape[0] , 28, 28, 1))"
      ],
      "execution_count": 87,
      "outputs": []
    },
    {
      "cell_type": "markdown",
      "metadata": {
        "id": "PvAQVmNNdLIg"
      },
      "source": [
        "Train the network using the following test cell:"
      ]
    },
    {
      "cell_type": "code",
      "metadata": {
        "colab": {
          "base_uri": "https://localhost:8080/"
        },
        "id": "Mpd0K8v0dLIg",
        "outputId": "26128c64-4d82-41e0-e919-f9d0b81f248a"
      },
      "source": [
        "%%timeit -n 1 -r 1\n",
        "model.fit(x_train, y_train, epochs=5)"
      ],
      "execution_count": 88,
      "outputs": [
        {
          "output_type": "stream",
          "text": [
            "Epoch 1/5\n",
            "1875/1875 [==============================] - 5s 3ms/step - loss: 0.3004 - accuracy: 0.9103\n",
            "Epoch 2/5\n",
            "1875/1875 [==============================] - 5s 3ms/step - loss: 0.1409 - accuracy: 0.9568\n",
            "Epoch 3/5\n",
            "1875/1875 [==============================] - 5s 2ms/step - loss: 0.1062 - accuracy: 0.9671\n",
            "Epoch 4/5\n",
            "1875/1875 [==============================] - 5s 2ms/step - loss: 0.0865 - accuracy: 0.9732\n",
            "Epoch 5/5\n",
            "1875/1875 [==============================] - 5s 2ms/step - loss: 0.0730 - accuracy: 0.9775\n",
            "1 loop, best of 1: 23.8 s per loop\n"
          ],
          "name": "stdout"
        }
      ]
    },
    {
      "cell_type": "markdown",
      "metadata": {
        "id": "uASFrMb-dLIg"
      },
      "source": [
        "As before, what is the test accuracy of the model. Is it overfit?"
      ]
    },
    {
      "cell_type": "code",
      "metadata": {
        "colab": {
          "base_uri": "https://localhost:8080/"
        },
        "id": "FU8mt__JdLIh",
        "outputId": "131d3556-c595-4446-d0cc-3898f5cb98e2"
      },
      "source": [
        "test_loss, test_acc = model.evaluate(x_test, y_test, verbose=0)\n",
        "print (\"test loss:\", test_loss)\n",
        "print (\"test accuracy:\", test_acc)\n",
        "\n",
        "#this method is not overfit, take a little bit loger but have a better accuracy"
      ],
      "execution_count": 89,
      "outputs": [
        {
          "output_type": "stream",
          "text": [
            "test loss: 0.07356223464012146\n",
            "test accuracy: 0.9751999974250793\n"
          ],
          "name": "stdout"
        }
      ]
    },
    {
      "cell_type": "markdown",
      "metadata": {
        "id": "ZzzAF3-_dLIh"
      },
      "source": [
        "How did this model compare to the previous one? Did it take longer to train? Did it perform better?"
      ]
    },
    {
      "cell_type": "markdown",
      "metadata": {
        "id": "9A1Ch8BZdLIh"
      },
      "source": [
        "### Part 3: CIFAR-10 Classification using TensorFlow / Keras\n",
        "\n",
        "In this part of the workbook you will extend the Convolutional MNIST network. Your goal is to create a neural network architecture which can get more than 70% test accuracy in 10 training epochs."
      ]
    },
    {
      "cell_type": "markdown",
      "metadata": {
        "id": "SNQxVuVNdLIh"
      },
      "source": [
        "Download the cifar10 dataset using TensorFlow / Keras. Warning, the dataset is ~170MB."
      ]
    },
    {
      "cell_type": "code",
      "metadata": {
        "id": "ykbaC50ydLIh"
      },
      "source": [
        "cifar10 =  tf.keras.datasets.cifar10\n",
        "# load dataset\n",
        "(x_train, y_train), (x_test, y_test) = cifar10.load_data()"
      ],
      "execution_count": 90,
      "outputs": []
    },
    {
      "cell_type": "markdown",
      "metadata": {
        "id": "MzNfEgKUdLIi"
      },
      "source": [
        "Shift the pixel values from the range 0...255 to 0.0...1.0"
      ]
    },
    {
      "cell_type": "code",
      "metadata": {
        "id": "pu3w1EwHdLIi"
      },
      "source": [
        "x_train, x_test = x_train / 255.0, x_test / 255.0"
      ],
      "execution_count": 91,
      "outputs": []
    },
    {
      "cell_type": "markdown",
      "metadata": {
        "id": "A_R9SOx5dLIi"
      },
      "source": [
        "The following cell adds a human readable label to each of the outputs"
      ]
    },
    {
      "cell_type": "code",
      "metadata": {
        "id": "FkdOs7gDdLIi"
      },
      "source": [
        "y_labels = [\"airplane\", \"automobile\", \"bird\", \"cat\", \"deer\", \"dog\", \"frog\", \"horse\", \"ship\", \"truck\"]"
      ],
      "execution_count": 92,
      "outputs": []
    },
    {
      "cell_type": "markdown",
      "metadata": {
        "id": "Isc5-dj7dLIi"
      },
      "source": [
        "As before, print out a sample image from the Dataset, and use the y_labels to add the appropriate label to the figure"
      ]
    },
    {
      "cell_type": "code",
      "metadata": {
        "colab": {
          "base_uri": "https://localhost:8080/",
          "height": 266
        },
        "id": "CfdyaNwedLIi",
        "outputId": "50a078fd-eec6-474c-f4ec-7db4febb6b6d"
      },
      "source": [
        "sample = x_train[:1]\r\n",
        "plt.imshow(sample[0],interpolation='nearest', cmap=\"gray\")\r\n",
        "plt.show()"
      ],
      "execution_count": 93,
      "outputs": [
        {
          "output_type": "display_data",
          "data": {
            "image/png": "[encoded data removed]",
            "text/plain": [
              "<Figure size 432x288 with 1 Axes>"
            ]
          },
          "metadata": {
            "tags": [],
            "needs_background": "light"
          }
        }
      ]
    },
    {
      "cell_type": "markdown",
      "metadata": {
        "id": "GJm-OHeSdLIj"
      },
      "source": [
        "Generate your model below. Here are some hints:\n",
        "- Include multiple convolutional 2D layers\n",
        "- Double the number of nodes in each successive convolution layers, eg. 4, 8, 16 etc.\n",
        "- Include MaxPooling2D layers between the convolutional layers, which greatly reduces the number of pixels while still maintaining detected intermediate features\n",
        "- After flattening the model, use an extra Dense layers"
      ]
    },
    {
      "cell_type": "code",
      "metadata": {
        "colab": {
          "base_uri": "https://localhost:8080/"
        },
        "id": "p17fvpYRdLIj",
        "outputId": "11c83394-1bd9-4730-e97d-bd5df718c9e1"
      },
      "source": [
        "model = tf.keras.models.Sequential([\r\n",
        "    # your code here!\r\n",
        "    tf.keras.layers.Conv2D(32, (3, 3),input_shape=(32, 32,3), activation='relu'), \r\n",
        "    tf.keras.layers.MaxPooling2D(pool_size=(2, 2)),\r\n",
        "    tf.keras.layers.Conv2D(64, (3, 3), activation='relu'),\r\n",
        "    tf.keras.layers.MaxPooling2D(pool_size=(2, 2)),\r\n",
        "    tf.keras.layers.Conv2D(128, (3, 3), activation='relu'),\r\n",
        "    tf.keras.layers.MaxPooling2D(pool_size=(2, 2)),\r\n",
        "    tf.keras.layers.Flatten(),\r\n",
        "\r\n",
        "    tf.keras.layers.Flatten(),\r\n",
        "    tf.keras.layers.Dense(512),\r\n",
        "    tf.keras.layers.Activation('relu'),\r\n",
        "    tf.keras.layers.Dropout(0.5),\r\n",
        "    tf.keras.layers.Dense(10),\r\n",
        "])\r\n",
        "scores = model(sample).numpy()\r\n",
        "print (\"Scores: \", scores)\r\n",
        "probabilities = tf.nn.softmax(scores).numpy()\r\n",
        "print (\"P`brobabilities: \", probabilities)\r\n",
        "label = np.argmax(probabilities)\r\n",
        "print (\"label: \", y_labels[label])\r\n",
        "loss_fn = tf.keras.losses.SparseCategoricalCrossentropy(from_logits=True)\r\n",
        "print(\"loss:\", loss_fn(y_train[:1], probabilities).numpy())"
      ],
      "execution_count": 94,
      "outputs": [
        {
          "output_type": "stream",
          "text": [
            "Scores:  [[-0.04856309  0.02983076 -0.0550539   0.02576943  0.05464709 -0.04244331\n",
            "  -0.05267793  0.03044238  0.03547399  0.12763591]]\n",
            "P`brobabilities:  [[0.09411272 0.10178749 0.09350383 0.10137492 0.10434508 0.09469043\n",
            "  0.09372626 0.10184976 0.10236351 0.11224593]]\n",
            "label:  truck\n",
            "loss: 2.308875\n"
          ],
          "name": "stdout"
        }
      ]
    },
    {
      "cell_type": "markdown",
      "metadata": {
        "id": "uxNn2IyxdLIj"
      },
      "source": [
        "Train your model. Use an appropriate loss function and optimizer. "
      ]
    },
    {
      "cell_type": "code",
      "metadata": {
        "id": "eKv2rbCgdLIj"
      },
      "source": [
        "model.compile(optimizer='Adam',\r\n",
        "              loss=loss_fn,\r\n",
        "              metrics=['accuracy'])"
      ],
      "execution_count": 95,
      "outputs": []
    },
    {
      "cell_type": "markdown",
      "metadata": {
        "id": "X-RduEjVdLIj"
      },
      "source": [
        "Print a summary of your model. Does it match your expectations?"
      ]
    },
    {
      "cell_type": "code",
      "metadata": {
        "colab": {
          "base_uri": "https://localhost:8080/"
        },
        "id": "-2Uf9ktUdLIk",
        "outputId": "aac76135-b7b5-43d0-ab82-b7f1ea0ce42d"
      },
      "source": [
        "model.summary()"
      ],
      "execution_count": 96,
      "outputs": [
        {
          "output_type": "stream",
          "text": [
            "Model: \"sequential_20\"\n",
            "_________________________________________________________________\n",
            "Layer (type)                 Output Shape              Param #   \n",
            "=================================================================\n",
            "conv2d_59 (Conv2D)           (None, 30, 30, 32)        896       \n",
            "_________________________________________________________________\n",
            "max_pooling2d_53 (MaxPooling (None, 15, 15, 32)        0         \n",
            "_________________________________________________________________\n",
            "conv2d_60 (Conv2D)           (None, 13, 13, 64)        18496     \n",
            "_________________________________________________________________\n",
            "max_pooling2d_54 (MaxPooling (None, 6, 6, 64)          0         \n",
            "_________________________________________________________________\n",
            "conv2d_61 (Conv2D)           (None, 4, 4, 128)         73856     \n",
            "_________________________________________________________________\n",
            "max_pooling2d_55 (MaxPooling (None, 2, 2, 128)         0         \n",
            "_________________________________________________________________\n",
            "flatten_26 (Flatten)         (None, 512)               0         \n",
            "_________________________________________________________________\n",
            "flatten_27 (Flatten)         (None, 512)               0         \n",
            "_________________________________________________________________\n",
            "dense_28 (Dense)             (None, 512)               262656    \n",
            "_________________________________________________________________\n",
            "activation_8 (Activation)    (None, 512)               0         \n",
            "_________________________________________________________________\n",
            "dropout_6 (Dropout)          (None, 512)               0         \n",
            "_________________________________________________________________\n",
            "dense_29 (Dense)             (None, 10)                5130      \n",
            "=================================================================\n",
            "Total params: 361,034\n",
            "Trainable params: 361,034\n",
            "Non-trainable params: 0\n",
            "_________________________________________________________________\n"
          ],
          "name": "stdout"
        }
      ]
    },
    {
      "cell_type": "markdown",
      "metadata": {
        "id": "xRXwVcXtdLIk"
      },
      "source": [
        "Train your model with a maximum of 10 training epochs."
      ]
    },
    {
      "cell_type": "code",
      "metadata": {
        "colab": {
          "base_uri": "https://localhost:8080/"
        },
        "id": "lQKm8HXtdLIk",
        "outputId": "3d69c8a4-8ed2-428f-b2ca-f4bb51adcb9e"
      },
      "source": [
        "%%timeit -n 1 -r 1\r\n",
        "model.fit(x_train, y_train, epochs=10)"
      ],
      "execution_count": 99,
      "outputs": [
        {
          "output_type": "stream",
          "text": [
            "Epoch 1/10\n",
            "1563/1563 [==============================] - 6s 4ms/step - loss: 0.5425 - accuracy: 0.8084\n",
            "Epoch 2/10\n",
            "1563/1563 [==============================] - 6s 4ms/step - loss: 0.5078 - accuracy: 0.8201\n",
            "Epoch 3/10\n",
            "1563/1563 [==============================] - 6s 4ms/step - loss: 0.4847 - accuracy: 0.8274\n",
            "Epoch 4/10\n",
            "1563/1563 [==============================] - 6s 4ms/step - loss: 0.4604 - accuracy: 0.8348\n",
            "Epoch 5/10\n",
            "1563/1563 [==============================] - 6s 4ms/step - loss: 0.4379 - accuracy: 0.8428\n",
            "Epoch 6/10\n",
            "1563/1563 [==============================] - 6s 4ms/step - loss: 0.4207 - accuracy: 0.8504\n",
            "Epoch 7/10\n",
            "1563/1563 [==============================] - 6s 4ms/step - loss: 0.4019 - accuracy: 0.8568\n",
            "Epoch 8/10\n",
            "1563/1563 [==============================] - 6s 4ms/step - loss: 0.3844 - accuracy: 0.8630\n",
            "Epoch 9/10\n",
            "1563/1563 [==============================] - 6s 4ms/step - loss: 0.3699 - accuracy: 0.8665\n",
            "Epoch 10/10\n",
            "1563/1563 [==============================] - 6s 4ms/step - loss: 0.3621 - accuracy: 0.8706\n",
            "Epoch 1/10\n",
            "1563/1563 [==============================] - 6s 4ms/step - loss: 0.3451 - accuracy: 0.8769\n",
            "Epoch 2/10\n",
            "1563/1563 [==============================] - 6s 4ms/step - loss: 0.3335 - accuracy: 0.8813\n",
            "Epoch 3/10\n",
            "1563/1563 [==============================] - 6s 4ms/step - loss: 0.3350 - accuracy: 0.8797\n",
            "Epoch 4/10\n",
            "1563/1563 [==============================] - 6s 4ms/step - loss: 0.3165 - accuracy: 0.8861\n",
            "Epoch 5/10\n",
            "1563/1563 [==============================] - 6s 4ms/step - loss: 0.3116 - accuracy: 0.8883\n",
            "Epoch 6/10\n",
            "1563/1563 [==============================] - 6s 4ms/step - loss: 0.2926 - accuracy: 0.8962\n",
            "Epoch 7/10\n",
            "1563/1563 [==============================] - 6s 4ms/step - loss: 0.2904 - accuracy: 0.8955\n",
            "Epoch 8/10\n",
            "1563/1563 [==============================] - 6s 4ms/step - loss: 0.2879 - accuracy: 0.8975\n",
            "Epoch 9/10\n",
            "1563/1563 [==============================] - 6s 4ms/step - loss: 0.2753 - accuracy: 0.9018\n",
            "Epoch 10/10\n",
            "1563/1563 [==============================] - 6s 4ms/step - loss: 0.2722 - accuracy: 0.9025\n",
            "1 loop, best of 1: 1min 54s per loop\n"
          ],
          "name": "stdout"
        }
      ]
    },
    {
      "cell_type": "markdown",
      "metadata": {
        "id": "LFOeVmeIdLIk"
      },
      "source": [
        "The cell below tests your model. Does it exceed 70% test accuracy?"
      ]
    },
    {
      "cell_type": "code",
      "metadata": {
        "colab": {
          "base_uri": "https://localhost:8080/"
        },
        "id": "WTCMN1sedLIk",
        "outputId": "23545ff5-1d7a-4d41-ec97-0bdc4479ea46"
      },
      "source": [
        "test_loss, test_acc = model.evaluate(x_test, y_test, verbose=0)\n",
        "print (\"test loss:\", test_loss)\n",
        "print (\"test accuracy:\", test_acc)\n",
        "#Thank you!!"
      ],
      "execution_count": 100,
      "outputs": [
        {
          "output_type": "stream",
          "text": [
            "test loss: 1.325719952583313\n",
            "test accuracy: 0.7228999733924866\n"
          ],
          "name": "stdout"
        }
      ]
    }
  ]
}