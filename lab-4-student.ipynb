{
 "cells": [
  {
   "cell_type": "markdown",
   "metadata": {},
   "source": [
    "## ENSE 496AD - Lab 4 - Support Vector Machines\n",
    "\n",
    "In this lab you will use numpy to implement a Support Vector Machine with the Maximum Margin Classifier using Hard Margins.  You will train the model using Stochastic Gradient Descent.  Finally, you will use the model on a real world dataset, predicting breast cancer. "
   ]
  },
  {
   "cell_type": "markdown",
   "metadata": {},
   "source": [
    "### Part 1: Hard-Margin Maximum Margin Classifier SVM\n",
    "In this section you will implement the SVM architecture. To begin, import numpy, pandas, matplotlib and set matplotlib to render in the notebook:"
   ]
  },
  {
   "cell_type": "code",
   "execution_count": 860,
   "metadata": {},
   "outputs": [],
   "source": [
    "#Your code here!\n",
    "import numpy as np\n",
    "import matplotlib.pyplot as plt"
   ]
  },
  {
   "cell_type": "markdown",
   "metadata": {},
   "source": [
    "This is a synthetic dataset for creating and testing your algorithm. It is just a bunch of random points in two clusters."
   ]
  },
  {
   "cell_type": "code",
   "execution_count": 861,
   "metadata": {},
   "outputs": [],
   "source": [
    "# completely synthetic dataset. Just a bunch of random points in two clusters!\n",
    "X_train = np.array([[ 6.96663236, -2.56413998], [ 7.08440547, -1.58297496], [ 1.59401457, 10.70235682], [ 8.31979132, -1.83871502],\n",
    "                    [ 8.76704515, -2.17708847], [-0.17576187,  9.53658348], [ 2.59936719,  8.75014744], [10.70968352, -3.41964297],\n",
    "                    [ 0.12774537,  8.39914911], [ 8.7231654 , -0.79943684], [-0.44417429,  8.26528965], [-0.35445391,  8.62273782],\n",
    "                    [-0.3051959 ,  8.77291032], [ 6.44811592, -0.50833227], [-1.38434493,  8.49291287], [ 8.16274594, -3.26126235],\n",
    "                    [ 7.2433519 , -3.69881207], [ 0.43880334,  8.70197902], [-0.0656843 ,  9.1262299 ], [ 5.30047761, -3.44010414],\n",
    "                    [ 2.9644372 , 10.15117072], [ 2.15116586,  9.87478664], [ 6.64196648, -3.47847631], [ 6.90354937, -3.26888755],\n",
    "                    [ 0.01818178, 10.00861805], [ 8.77536964, -3.26027474], [ 7.70871273, -3.40181157], [ 7.31484506, -2.74038082],\n",
    "                    [ 6.5742327 , -2.42588737], [ 0.25057702,  7.51370852], [ 0.78653136,  8.7029894 ], [ 1.54844767,  9.24159451],\n",
    "                    [ 5.46806687, -1.53042928], [ 2.66115711, 10.49187367], [ 6.82041955, -4.49727702], [-0.69607604,  7.734637  ],\n",
    "                    [ 7.21938966, -3.10013902], [ 7.17864956, -2.17662369], [ 7.99419466, -1.93472022], [ 9.0734713 , -2.06664736],\n",
    "                    [ 1.36893319,  9.32706109], [ 0.61964424, 10.32935828], [ 2.43985202,  9.24093868], [ 1.57904414,  7.24063942],\n",
    "                    [ 7.58639384, -2.99198749], [ 6.05710246, -1.26682442], [ 7.23355672, -2.24157832], [ 2.63552055, 10.54803324], \n",
    "                    [ 2.89608198,  9.36411293], [ 0.54994864,  8.39962354]])\n",
    "y_train = np.array([[0], [0], [1], [0], [0], [1], [1], [0], [1], [0], \n",
    "                    [1], [1], [1], [0], [1], [0], [0], [1], [1], [0], \n",
    "                    [1], [1], [0], [0], [1], [0], [0], [0], [0], [1], \n",
    "                    [1], [1], [0], [1], [0], [1], [0], [0], [0], [0], \n",
    "                    [1], [1], [1], [1], [0], [0], [0], [1], [1], [1]])"
   ]
  },
  {
   "cell_type": "markdown",
   "metadata": {},
   "source": [
    "Using matplotlib, visualize your dataset in a scatter plot. Wherever a value is 1, render a red circle, and wherever a value is blue, render a blue square."
   ]
  },
  {
   "cell_type": "code",
   "execution_count": 862,
   "metadata": {},
   "outputs": [
    {
     "data": {
      "image/png": "[encoded data removed]",
      "text/plain": [
       "<Figure size 432x288 with 1 Axes>"
      ]
     },
     "metadata": {
      "needs_background": "light"
     },
     "output_type": "display_data"
    }
   ],
   "source": [
    "def plotPoints (X_train, y_train):\n",
    "    for index in range(len(X_train)):\n",
    "        if y_train[index] == 1:\n",
    "            plt.scatter(X_train[index,0], X_train[index,1], c=\"r\")\n",
    "        else:\n",
    "            plt.scatter(X_train[index,0], X_train[index,1],marker=\"s\", c=\"b\")\n",
    "    #Your code here!\n",
    "plotPoints(X_train, y_train)"
   ]
  },
  {
   "attachments": {
    "image-2.png": {
     "image/png": "[encoded data removed]"
    }
   },
   "cell_type": "markdown",
   "metadata": {},
   "source": [
    "![image-2.png](attachment:image-2.png)"
   ]
  },
  {
   "cell_type": "markdown",
   "metadata": {},
   "source": [
    "Initialize the weights and bias terms below. Initialize all values to zero. Recall that the weight vector should have the same number of terms as the number of features. Write a general implementation that can work with any number of features."
   ]
  },
  {
   "cell_type": "code",
   "execution_count": 863,
   "metadata": {},
   "outputs": [],
   "source": [
    "def init_w_b (X_train):\n",
    "    feature = len(X_train[0])\n",
    "    w = np.zeros(feature)\n",
    "    b = 0\n",
    "    # your code here\n",
    "    return w,b"
   ]
  },
  {
   "cell_type": "markdown",
   "metadata": {},
   "source": [
    "Test Cell\n",
    "\n",
    "Call:\n",
    "~~~\n",
    "w, b = init_w_b(X_train)\n",
    "print (w,b)\n",
    "~~~\n",
    "Expected Output\n",
    "~~~\n",
    "[0. 0.] 0\n",
    "~~~"
   ]
  },
  {
   "cell_type": "code",
   "execution_count": 864,
   "metadata": {},
   "outputs": [
    {
     "name": "stdout",
     "output_type": "stream",
     "text": [
      "[0. 0.] 0\n"
     ]
    }
   ],
   "source": [
    "w, b = init_w_b(X_train)\n",
    "print (w,b)"
   ]
  },
  {
   "cell_type": "markdown",
   "metadata": {},
   "source": [
    "SVM's require the data labels to be represented as 1 or -1. Complete the init_y function below. This function must return a numpy array with a -1 placed wherever the neg_value appears, and a 1 wherever the pos_value appears.\n",
    "\n",
    "Eg. If the labels were \n",
    "~~~\n",
    "[[\"cat\"], [\"dog\"]]\n",
    "~~~\n",
    ", and the function was called \n",
    "~~~\n",
    "init_y(Y_train, \"cat\", \"dog\")\n",
    "~~~\n",
    "the resulting array would be:\n",
    "~~~\n",
    "[[-1], [1]]\n",
    "~~~"
   ]
  },
  {
   "cell_type": "code",
   "execution_count": 865,
   "metadata": {},
   "outputs": [],
   "source": [
    "def init_y(Y_train, neg_value, pos_value):\n",
    "    # your code here\n",
    "    y_array = Y_train.copy()\n",
    "    for index in range(len(Y_train)):\n",
    "        if Y_train[index] == neg_value:\n",
    "            y_array[index] = -1\n",
    "        if Y_train[index] == pos_value:\n",
    "            y_array[index] = 1\n",
    "    return y_array"
   ]
  },
  {
   "cell_type": "markdown",
   "metadata": {},
   "source": [
    "Test Cell\n",
    "\n",
    "Call:\n",
    "~~~\n",
    "Y_train = init_y(Y_train, 0, 1)\n",
    "print (Y_train[:5])\n",
    "~~~\n",
    "Expected Output\n",
    "~~~\n",
    "[[-1]\n",
    " [-1]\n",
    " [ 1]\n",
    " [-1]\n",
    " [-1]]\n",
    "~~~"
   ]
  },
  {
   "cell_type": "code",
   "execution_count": 866,
   "metadata": {},
   "outputs": [
    {
     "name": "stdout",
     "output_type": "stream",
     "text": [
      "[[-1]\n",
      " [-1]\n",
      " [ 1]\n",
      " [-1]\n",
      " [-1]]\n"
     ]
    }
   ],
   "source": [
    "y_train = init_y(y_train, 0, 1)\n",
    "print (y_train[:5])"
   ]
  },
  {
   "cell_type": "markdown",
   "metadata": {},
   "source": [
    "In the next two sections you will implement Stochastic Gradient Descent. First, implement the compute_cost_gradient function, which will estimate the gradient of the function using a single training sample. This function will implement the equation:\n",
    "\n",
    "if $y_i ( x_i \\cdot w - b) \\ge 1$:\n",
    "\n",
    "$ \\frac{\\partial J}{\\partial w_k} = 2 \\lambda w_k $\n",
    "\n",
    "$ \\frac{\\partial J}{\\partial b} = 0 $\n",
    "\n",
    "else\n",
    "\n",
    "$ \\frac{\\partial J}{\\partial w_k} = 2 \\lambda w_k - y_i \\cdot x_i$\n",
    "\n",
    "$ \\frac{\\partial J}{\\partial b} = y_i $\n",
    "\n",
    "where $\\lambda$ is the regularization hyperparameter."
   ]
  },
  {
   "cell_type": "code",
   "execution_count": 867,
   "metadata": {},
   "outputs": [],
   "source": [
    "def compute_cost_gradient (X_sample, y_sample, reg_param, w, b):\n",
    "    costfunction = y_sample * (np.dot(X_sample,w)-b)\n",
    "    if costfunction >= 1 :\n",
    "        dw = 2 * reg_param * w\n",
    "        db = 0.0\n",
    "    else:\n",
    "        dw = 2 * reg_param * w - y_sample * X_sample\n",
    "        db = y_sample\n",
    "    # your code here\n",
    "    return dw, db"
   ]
  },
  {
   "cell_type": "markdown",
   "metadata": {},
   "source": [
    "Test Cell\n",
    "\n",
    "Call:\n",
    "~~~\n",
    "dw, db = compute_cost_gradient ([0,0], 1, 0.01, [1,1], 1)\n",
    "print (dw, db)\n",
    "dw, db = compute_cost_gradient (X_sample, y_sample, reg_param, w, b)\n",
    "print (dw, db)\n",
    "~~~\n",
    "Expected Output\n",
    "~~~\n",
    "[0.02 0.02] 0.0\n",
    "[1.02 0.02] -1.0\n",
    "~~~"
   ]
  },
  {
   "cell_type": "code",
   "execution_count": 868,
   "metadata": {},
   "outputs": [
    {
     "name": "stdout",
     "output_type": "stream",
     "text": [
      "[0.02 0.02] 0.0\n",
      "[1.02 0.02] [-1.]\n"
     ]
    }
   ],
   "source": [
    "dw, db = compute_cost_gradient (np.array([1.0,1.0]), np.array([1.0]), 0.01, np.array([1.0,1.0]), 1.0)\n",
    "print (dw, db)\n",
    "dw, db = compute_cost_gradient (np.array([1.0,0.0]), np.array([-1.0]), 0.01, np.array([1.0,1.0]), 1.0)\n",
    "print (dw, db)\n"
   ]
  },
  {
   "cell_type": "markdown",
   "metadata": {},
   "source": [
    "In the next cell, implement the train function, which will perform stochastic gradient descent. This function will, in each epoch, for each training sample, estimate the gradient using the compute_cost_gradient function, and then update the weight vector and bias term.\n",
    "\n",
    "Recall, in gradient descent, the update terms are given by:\n",
    "\n",
    "$ w_k = w_k - \\alpha \\frac{\\partial J}{\\partial w_k}$\n",
    "\n",
    "$ b = b - \\alpha \\frac{\\partial J}{\\partial b}$\n",
    "\n",
    "where $\\alpha$ is the learning rate. "
   ]
  },
  {
   "cell_type": "code",
   "execution_count": 869,
   "metadata": {},
   "outputs": [],
   "source": [
    "def train(X_train, y_train, learning_rate=0.001, reg_param=0.01, epochs=1000): \n",
    "    w, b = init_w_b(X_train)\n",
    "    number_samples, number_features = X_train.shape\n",
    "    for _ in range(epochs): \n",
    "        for i in range(number_samples):\n",
    "            dw, db = compute_cost_gradient(X_train[i], y_train[i], reg_param, w, b)\n",
    "            w = w - learning_rate * dw\n",
    "            b = b - learning_rate * db           \n",
    "            #Your code here!\n",
    "    return w, b "
   ]
  },
  {
   "cell_type": "markdown",
   "metadata": {},
   "source": [
    "Test Cell\n",
    "\n",
    "Call:\n",
    "~~~\n",
    "w, b = train(X_train, Y_train)\n",
    "print (w, b)\n",
    "~~~\n",
    "Expected Output\n",
    "~~~\n",
    "[-0.14918368  0.1746837 ] [0.014]\n",
    "~~~"
   ]
  },
  {
   "cell_type": "code",
   "execution_count": 870,
   "metadata": {},
   "outputs": [
    {
     "name": "stdout",
     "output_type": "stream",
     "text": [
      "[-0.14599819  0.17198231] [0.013]\n"
     ]
    }
   ],
   "source": [
    "w, b = train(X_train, y_train)\n",
    "print (w,b)"
   ]
  },
  {
   "cell_type": "markdown",
   "metadata": {},
   "source": [
    "Implement the predict function below, which given a sample (or a matrix of samples) will produce predictions for each."
   ]
  },
  {
   "cell_type": "code",
   "execution_count": 871,
   "metadata": {},
   "outputs": [],
   "source": [
    "def predict(X_test, w, b):\n",
    "    #print(X_test)\n",
    "    #print(w)\n",
    "    condition = np.dot(w,X_test) - b\n",
    "    #initial y_predict to the same shape of w\n",
    "    y_predict = condition \n",
    "    for index in range(len(condition)):\n",
    "        if condition[index] >=0:\n",
    "            y_predict[index] = 1 \n",
    "        else :\n",
    "            y_predict[index] = -1\n",
    "    return y_predict\n",
    "    #Your code here!"
   ]
  },
  {
   "cell_type": "markdown",
   "metadata": {},
   "source": [
    "Test Cell\n",
    "\n",
    "Call:\n",
    "~~~\n",
    "y_predict = predict (np.array([[8, -4],[2,6]]), w, b)\n",
    "print (y_predict)\n",
    "~~~\n",
    "Expected Output\n",
    "~~~\n",
    "[-1.  1.]\n",
    "~~~"
   ]
  },
  {
   "cell_type": "code",
   "execution_count": 872,
   "metadata": {},
   "outputs": [
    {
     "name": "stdout",
     "output_type": "stream",
     "text": [
      "[-1.  1.]\n"
     ]
    }
   ],
   "source": [
    "y_predict = predict (np.array([[8, -4],[2,6]]), w, b)\n",
    "print (y_predict)"
   ]
  },
  {
   "cell_type": "markdown",
   "metadata": {},
   "source": [
    "Implement the compute_accuracy function below which takes a vector of sample predictions and a vector of actual sample labels, and computes the percentage of samples which were correctly  "
   ]
  },
  {
   "cell_type": "code",
   "execution_count": 873,
   "metadata": {},
   "outputs": [],
   "source": [
    "def compute_accuracy(y_predict, y_actual):\n",
    "    counter = 0\n",
    "    for index in range(len(y_actual)):\n",
    "        if y_predict[index] == y_actual[index]:\n",
    "            counter += 1\n",
    "    accuracy = counter / len(y_actual)  \n",
    "    return accuracy\n",
    "    #Your code here!"
   ]
  },
  {
   "cell_type": "markdown",
   "metadata": {},
   "source": [
    "Test Cell\n",
    "\n",
    "Call:\n",
    "~~~\n",
    "y_predict = np.array([-1, 1, -1, -1])\n",
    "y_actual  = np.array([-1, 1, -1,  1])\n",
    "accuracy = compute_accuracy(y_predict, y_actual)\n",
    "print (accuracy)\n",
    "\n",
    "~~~\n",
    "Expected Output\n",
    "~~~\n",
    "0.75\n",
    "~~~"
   ]
  },
  {
   "cell_type": "code",
   "execution_count": 874,
   "metadata": {},
   "outputs": [
    {
     "name": "stdout",
     "output_type": "stream",
     "text": [
      "0.75\n"
     ]
    }
   ],
   "source": [
    "y_predict = np.array([-1, 1, -1, -1])\n",
    "y_actual  = np.array([-1, 1, -1,  1])\n",
    "accuracy = compute_accuracy(y_predict, y_actual)\n",
    "print (accuracy)\n"
   ]
  },
  {
   "cell_type": "markdown",
   "metadata": {},
   "source": [
    "Implement the following function for visualizing a trained SVM in two dimensions. Make use of the plot_hyperplane_line function which plots the intersection of the learned plane with intersecting planes. "
   ]
  },
  {
   "cell_type": "code",
   "execution_count": 875,
   "metadata": {},
   "outputs": [],
   "source": [
    "def plot_svm(X_train, y_train, w, b):\n",
    "\n",
    "    def plot_hyperplane_line(x0_left, x0_right, w, b, height, axes, lineOptions,color):\n",
    "        '''Plot the projection of a line from two interecting planes on a pyplot fig\n",
    "        \n",
    "        Parameters:\n",
    "        x0_left: the lowest value for feature zero across all samples, used as the starting point to draw the line\n",
    "        x0_right: the highest value for feature zero across all samples, used to terminate the line\n",
    "        w: the learned w vector. Together, with b, defines a plane\n",
    "        b: the learned b term. Together, with w, defines a plane\n",
    "        height: the desired height of the intersecting plane, eg. 0, 1, -1\n",
    "        axes: the pyplot subplot on which to draw the line\n",
    "        lineOptions: line formatting options, as per the pyplot plot function\n",
    "        '''\n",
    "        # solve for the second dimension for the starting and ending points of the line\n",
    "        x1_left  = (-w[0] * x0_left  + b - height) / w[1]\n",
    "        x1_right = (-w[0] * x0_right + b - height) / w[1]\n",
    "        # plot the line using the starting and ending points \n",
    "        axes.plot([x0_left, x0_right],[x1_left, x1_right], lineOptions, c=color)\n",
    "    \n",
    "    fig = plt.figure()\n",
    "    axes = fig.add_subplot(1,1,1)\n",
    "    plotPoints(X_train, y_train)\n",
    "\n",
    "    x0_min = np.amin(X_train[:,0])\n",
    "    x0_max = np.amax(X_train[:,0])\n",
    "    x1_min = np.amin(X_train[:,1])\n",
    "    x1_max = np.amax(X_train[:,1])\n",
    "\n",
    "    # use plot_hyperplane_line to plot the decision boundary as a solid red line, \n",
    "    # and the margins as black dashed lines\n",
    "    \n",
    "    #Your code here!\n",
    "    #w,b = train(X_train, y_train)\n",
    "    plot_hyperplane_line(x0_min, x0_max, w, b, 1, axes, '--','k')\n",
    "    plot_hyperplane_line(x0_min, x0_max, w, b, 0, axes, '-','r')\n",
    "    plot_hyperplane_line(x0_min, x0_max, w, b, -1, axes, '--','k')\n",
    "\n",
    "    axes.set_ylim([x1_min-1,x1_max+1])\n",
    "    \n",
    "    plt.title(\"Linear SVM (Hard Maximum Margin Classification)\")\n",
    "\n",
    "    plt.show()"
   ]
  },
  {
   "cell_type": "code",
   "execution_count": 876,
   "metadata": {},
   "outputs": [
    {
     "data": {
      "image/png": "[encoded data removed]",
      "text/plain": [
       "<Figure size 432x288 with 1 Axes>"
      ]
     },
     "metadata": {
      "needs_background": "light"
     },
     "output_type": "display_data"
    }
   ],
   "source": [
    "plot_svm(X_train, y_train, w, b)"
   ]
  },
  {
   "attachments": {
    "image.png": {
     "image/png": "[encoded data removed]"
    }
   },
   "cell_type": "markdown",
   "metadata": {},
   "source": [
    "![image.png](attachment:image.png)"
   ]
  },
  {
   "cell_type": "markdown",
   "metadata": {},
   "source": [
    "### Part 2: Applying the SVM to a real world dataset\n",
    "\n",
    "In this part of the notebook you will apply the SVM model to a real world dataset for predicting breast cancer.\n",
    "\n",
    "The dataset includes diagnoses, which are Malignant (cancerous), and Benign (cancer free).\n",
    "\n",
    "Begin by opening the dataset in pandas:"
   ]
  },
  {
   "cell_type": "code",
   "execution_count": 877,
   "metadata": {},
   "outputs": [],
   "source": [
    "#Your code here!\n",
    "import pandas as pd"
   ]
  },
  {
   "cell_type": "markdown",
   "metadata": {},
   "source": [
    "Inspect the dataset using the methods you know. "
   ]
  },
  {
   "cell_type": "code",
   "execution_count": 878,
   "metadata": {},
   "outputs": [
    {
     "data": {
      "text/html": [
       "<div>\n",
       "<style scoped>\n",
       "    .dataframe tbody tr th:only-of-type {\n",
       "        vertical-align: middle;\n",
       "    }\n",
       "\n",
       "    .dataframe tbody tr th {\n",
       "        vertical-align: top;\n",
       "    }\n",
       "\n",
       "    .dataframe thead th {\n",
       "        text-align: right;\n",
       "    }\n",
       "</style>\n",
       "<table border=\"1\" class=\"dataframe\">\n",
       "  <thead>\n",
       "    <tr style=\"text-align: right;\">\n",
       "      <th></th>\n",
       "      <th>id</th>\n",
       "      <th>diagnosis</th>\n",
       "      <th>radius_mean</th>\n",
       "      <th>texture_mean</th>\n",
       "      <th>perimeter_mean</th>\n",
       "      <th>area_mean</th>\n",
       "      <th>smoothness_mean</th>\n",
       "      <th>compactness_mean</th>\n",
       "      <th>concavity_mean</th>\n",
       "      <th>concave points_mean</th>\n",
       "      <th>...</th>\n",
       "      <th>radius_worst</th>\n",
       "      <th>texture_worst</th>\n",
       "      <th>perimeter_worst</th>\n",
       "      <th>area_worst</th>\n",
       "      <th>smoothness_worst</th>\n",
       "      <th>compactness_worst</th>\n",
       "      <th>concavity_worst</th>\n",
       "      <th>concave points_worst</th>\n",
       "      <th>symmetry_worst</th>\n",
       "      <th>fractal_dimension_worst</th>\n",
       "    </tr>\n",
       "  </thead>\n",
       "  <tbody>\n",
       "    <tr>\n",
       "      <th>0</th>\n",
       "      <td>842302</td>\n",
       "      <td>M</td>\n",
       "      <td>17.99</td>\n",
       "      <td>10.38</td>\n",
       "      <td>122.80</td>\n",
       "      <td>1001.0</td>\n",
       "      <td>0.11840</td>\n",
       "      <td>0.27760</td>\n",
       "      <td>0.3001</td>\n",
       "      <td>0.14710</td>\n",
       "      <td>...</td>\n",
       "      <td>25.38</td>\n",
       "      <td>17.33</td>\n",
       "      <td>184.60</td>\n",
       "      <td>2019.0</td>\n",
       "      <td>0.1622</td>\n",
       "      <td>0.6656</td>\n",
       "      <td>0.7119</td>\n",
       "      <td>0.2654</td>\n",
       "      <td>0.4601</td>\n",
       "      <td>0.11890</td>\n",
       "    </tr>\n",
       "    <tr>\n",
       "      <th>1</th>\n",
       "      <td>842517</td>\n",
       "      <td>M</td>\n",
       "      <td>20.57</td>\n",
       "      <td>17.77</td>\n",
       "      <td>132.90</td>\n",
       "      <td>1326.0</td>\n",
       "      <td>0.08474</td>\n",
       "      <td>0.07864</td>\n",
       "      <td>0.0869</td>\n",
       "      <td>0.07017</td>\n",
       "      <td>...</td>\n",
       "      <td>24.99</td>\n",
       "      <td>23.41</td>\n",
       "      <td>158.80</td>\n",
       "      <td>1956.0</td>\n",
       "      <td>0.1238</td>\n",
       "      <td>0.1866</td>\n",
       "      <td>0.2416</td>\n",
       "      <td>0.1860</td>\n",
       "      <td>0.2750</td>\n",
       "      <td>0.08902</td>\n",
       "    </tr>\n",
       "    <tr>\n",
       "      <th>2</th>\n",
       "      <td>84300903</td>\n",
       "      <td>M</td>\n",
       "      <td>19.69</td>\n",
       "      <td>21.25</td>\n",
       "      <td>130.00</td>\n",
       "      <td>1203.0</td>\n",
       "      <td>0.10960</td>\n",
       "      <td>0.15990</td>\n",
       "      <td>0.1974</td>\n",
       "      <td>0.12790</td>\n",
       "      <td>...</td>\n",
       "      <td>23.57</td>\n",
       "      <td>25.53</td>\n",
       "      <td>152.50</td>\n",
       "      <td>1709.0</td>\n",
       "      <td>0.1444</td>\n",
       "      <td>0.4245</td>\n",
       "      <td>0.4504</td>\n",
       "      <td>0.2430</td>\n",
       "      <td>0.3613</td>\n",
       "      <td>0.08758</td>\n",
       "    </tr>\n",
       "    <tr>\n",
       "      <th>3</th>\n",
       "      <td>84348301</td>\n",
       "      <td>M</td>\n",
       "      <td>11.42</td>\n",
       "      <td>20.38</td>\n",
       "      <td>77.58</td>\n",
       "      <td>386.1</td>\n",
       "      <td>0.14250</td>\n",
       "      <td>0.28390</td>\n",
       "      <td>0.2414</td>\n",
       "      <td>0.10520</td>\n",
       "      <td>...</td>\n",
       "      <td>14.91</td>\n",
       "      <td>26.50</td>\n",
       "      <td>98.87</td>\n",
       "      <td>567.7</td>\n",
       "      <td>0.2098</td>\n",
       "      <td>0.8663</td>\n",
       "      <td>0.6869</td>\n",
       "      <td>0.2575</td>\n",
       "      <td>0.6638</td>\n",
       "      <td>0.17300</td>\n",
       "    </tr>\n",
       "    <tr>\n",
       "      <th>4</th>\n",
       "      <td>84358402</td>\n",
       "      <td>M</td>\n",
       "      <td>20.29</td>\n",
       "      <td>14.34</td>\n",
       "      <td>135.10</td>\n",
       "      <td>1297.0</td>\n",
       "      <td>0.10030</td>\n",
       "      <td>0.13280</td>\n",
       "      <td>0.1980</td>\n",
       "      <td>0.10430</td>\n",
       "      <td>...</td>\n",
       "      <td>22.54</td>\n",
       "      <td>16.67</td>\n",
       "      <td>152.20</td>\n",
       "      <td>1575.0</td>\n",
       "      <td>0.1374</td>\n",
       "      <td>0.2050</td>\n",
       "      <td>0.4000</td>\n",
       "      <td>0.1625</td>\n",
       "      <td>0.2364</td>\n",
       "      <td>0.07678</td>\n",
       "    </tr>\n",
       "  </tbody>\n",
       "</table>\n",
       "<p>5 rows × 32 columns</p>\n",
       "</div>"
      ],
      "text/plain": [
       "         id diagnosis  radius_mean  texture_mean  perimeter_mean  area_mean  \\\n",
       "0    842302         M        17.99         10.38          122.80     1001.0   \n",
       "1    842517         M        20.57         17.77          132.90     1326.0   \n",
       "2  84300903         M        19.69         21.25          130.00     1203.0   \n",
       "3  84348301         M        11.42         20.38           77.58      386.1   \n",
       "4  84358402         M        20.29         14.34          135.10     1297.0   \n",
       "\n",
       "   smoothness_mean  compactness_mean  concavity_mean  concave points_mean  \\\n",
       "0          0.11840           0.27760          0.3001              0.14710   \n",
       "1          0.08474           0.07864          0.0869              0.07017   \n",
       "2          0.10960           0.15990          0.1974              0.12790   \n",
       "3          0.14250           0.28390          0.2414              0.10520   \n",
       "4          0.10030           0.13280          0.1980              0.10430   \n",
       "\n",
       "   ...  radius_worst  texture_worst  perimeter_worst  area_worst  \\\n",
       "0  ...         25.38          17.33           184.60      2019.0   \n",
       "1  ...         24.99          23.41           158.80      1956.0   \n",
       "2  ...         23.57          25.53           152.50      1709.0   \n",
       "3  ...         14.91          26.50            98.87       567.7   \n",
       "4  ...         22.54          16.67           152.20      1575.0   \n",
       "\n",
       "   smoothness_worst  compactness_worst  concavity_worst  concave points_worst  \\\n",
       "0            0.1622             0.6656           0.7119                0.2654   \n",
       "1            0.1238             0.1866           0.2416                0.1860   \n",
       "2            0.1444             0.4245           0.4504                0.2430   \n",
       "3            0.2098             0.8663           0.6869                0.2575   \n",
       "4            0.1374             0.2050           0.4000                0.1625   \n",
       "\n",
       "   symmetry_worst  fractal_dimension_worst  \n",
       "0          0.4601                  0.11890  \n",
       "1          0.2750                  0.08902  \n",
       "2          0.3613                  0.08758  \n",
       "3          0.6638                  0.17300  \n",
       "4          0.2364                  0.07678  \n",
       "\n",
       "[5 rows x 32 columns]"
      ]
     },
     "execution_count": 878,
     "metadata": {},
     "output_type": "execute_result"
    }
   ],
   "source": [
    "#Your code here!\n",
    "dataframe =pd.read_csv(\"breast-cancer-wisconsin-data.csv\")\n",
    "dataframe.head()"
   ]
  },
  {
   "cell_type": "code",
   "execution_count": 879,
   "metadata": {},
   "outputs": [],
   "source": [
    "#Your code here!"
   ]
  },
  {
   "cell_type": "code",
   "execution_count": 880,
   "metadata": {},
   "outputs": [],
   "source": [
    "#Your code here!\n"
   ]
  },
  {
   "cell_type": "markdown",
   "metadata": {},
   "source": [
    "Split the dataset into two groups, X_train and X_test. X_train should contain the first 60% of the samples, and X_test should contain the remaining samples."
   ]
  },
  {
   "cell_type": "code",
   "execution_count": 881,
   "metadata": {},
   "outputs": [
    {
     "name": "stdout",
     "output_type": "stream",
     "text": [
      "<class 'pandas.core.frame.DataFrame'>\n",
      "RangeIndex: 136 entries, 205 to 340\n",
      "Data columns (total 30 columns):\n",
      " #   Column                   Non-Null Count  Dtype  \n",
      "---  ------                   --------------  -----  \n",
      " 0   radius_mean              136 non-null    float64\n",
      " 1   texture_mean             136 non-null    float64\n",
      " 2   perimeter_mean           136 non-null    float64\n",
      " 3   area_mean                136 non-null    float64\n",
      " 4   smoothness_mean          136 non-null    float64\n",
      " 5   compactness_mean         136 non-null    float64\n",
      " 6   concavity_mean           136 non-null    float64\n",
      " 7   concave points_mean      136 non-null    float64\n",
      " 8   symmetry_mean            136 non-null    float64\n",
      " 9   fractal_dimension_mean   136 non-null    float64\n",
      " 10  radius_se                136 non-null    float64\n",
      " 11  texture_se               136 non-null    float64\n",
      " 12  perimeter_se             136 non-null    float64\n",
      " 13  area_se                  136 non-null    float64\n",
      " 14  smoothness_se            136 non-null    float64\n",
      " 15  compactness_se           136 non-null    float64\n",
      " 16  concavity_se             136 non-null    float64\n",
      " 17  concave points_se        136 non-null    float64\n",
      " 18  symmetry_se              136 non-null    float64\n",
      " 19  fractal_dimension_se     136 non-null    float64\n",
      " 20  radius_worst             136 non-null    float64\n",
      " 21  texture_worst            136 non-null    float64\n",
      " 22  perimeter_worst          136 non-null    float64\n",
      " 23  area_worst               136 non-null    float64\n",
      " 24  smoothness_worst         136 non-null    float64\n",
      " 25  compactness_worst        136 non-null    float64\n",
      " 26  concavity_worst          136 non-null    float64\n",
      " 27  concave points_worst     136 non-null    float64\n",
      " 28  symmetry_worst           136 non-null    float64\n",
      " 29  fractal_dimension_worst  136 non-null    float64\n",
      "dtypes: float64(30)\n",
      "memory usage: 32.0 KB\n"
     ]
    }
   ],
   "source": [
    "#Your code here!\n",
    "X_train = dataframe.loc[:, \"radius_mean\":\"fractal_dimension_worst\"]\n",
    "X_train = X_train.head(int(len(X_train)*0.6))\n",
    "X_test = X_train.tail(int(len(X_train)*0.4))\n",
    "#print(0.6*len(X_train))\n",
    "#X_train.tail()\n",
    "X_test.info()"
   ]
  },
  {
   "cell_type": "markdown",
   "metadata": {},
   "source": [
    "From X_train and X_test, create also Y_train and Y_test. Assign Malignant samples to -1, and Benign samples to 1."
   ]
  },
  {
   "cell_type": "code",
   "execution_count": 882,
   "metadata": {},
   "outputs": [],
   "source": [
    "#Your code here!\n",
    "Y_train = dataframe[\"diagnosis\"]\n",
    "Y_train = Y_train.head(int(len(Y_train)*0.6))\n",
    "Y_test = Y_train.tail(int(len(Y_train)*0.4))\n",
    "#print(0.6*len(Y_train))\n",
    "#Y_train.head()\n",
    "#Y_test.tail()\n",
    "Y_train=np.array(Y_train)\n",
    "Y_test=np.array(Y_test)\n",
    "y_train = init_y(Y_train, 'M', 'B')\n",
    "y_test = init_y(Y_test, 'M', 'B')"
   ]
  },
  {
   "cell_type": "markdown",
   "metadata": {},
   "source": [
    "Remove the \"id\" and \"diagnosis\" columns from X_train and x_test"
   ]
  },
  {
   "cell_type": "code",
   "execution_count": 883,
   "metadata": {},
   "outputs": [
    {
     "data": {
      "text/html": [
       "<div>\n",
       "<style scoped>\n",
       "    .dataframe tbody tr th:only-of-type {\n",
       "        vertical-align: middle;\n",
       "    }\n",
       "\n",
       "    .dataframe tbody tr th {\n",
       "        vertical-align: top;\n",
       "    }\n",
       "\n",
       "    .dataframe thead th {\n",
       "        text-align: right;\n",
       "    }\n",
       "</style>\n",
       "<table border=\"1\" class=\"dataframe\">\n",
       "  <thead>\n",
       "    <tr style=\"text-align: right;\">\n",
       "      <th></th>\n",
       "      <th>radius_mean</th>\n",
       "      <th>texture_mean</th>\n",
       "      <th>perimeter_mean</th>\n",
       "      <th>area_mean</th>\n",
       "      <th>smoothness_mean</th>\n",
       "      <th>compactness_mean</th>\n",
       "      <th>concavity_mean</th>\n",
       "      <th>concave points_mean</th>\n",
       "      <th>symmetry_mean</th>\n",
       "      <th>fractal_dimension_mean</th>\n",
       "      <th>...</th>\n",
       "      <th>radius_worst</th>\n",
       "      <th>texture_worst</th>\n",
       "      <th>perimeter_worst</th>\n",
       "      <th>area_worst</th>\n",
       "      <th>smoothness_worst</th>\n",
       "      <th>compactness_worst</th>\n",
       "      <th>concavity_worst</th>\n",
       "      <th>concave points_worst</th>\n",
       "      <th>symmetry_worst</th>\n",
       "      <th>fractal_dimension_worst</th>\n",
       "    </tr>\n",
       "  </thead>\n",
       "  <tbody>\n",
       "    <tr>\n",
       "      <th>205</th>\n",
       "      <td>15.120</td>\n",
       "      <td>16.68</td>\n",
       "      <td>98.78</td>\n",
       "      <td>716.6</td>\n",
       "      <td>0.08876</td>\n",
       "      <td>0.09588</td>\n",
       "      <td>0.07550</td>\n",
       "      <td>0.04079</td>\n",
       "      <td>0.1594</td>\n",
       "      <td>0.05986</td>\n",
       "      <td>...</td>\n",
       "      <td>17.77</td>\n",
       "      <td>20.24</td>\n",
       "      <td>117.70</td>\n",
       "      <td>989.5</td>\n",
       "      <td>0.1491</td>\n",
       "      <td>0.3331</td>\n",
       "      <td>0.33270</td>\n",
       "      <td>0.12520</td>\n",
       "      <td>0.3415</td>\n",
       "      <td>0.09740</td>\n",
       "    </tr>\n",
       "    <tr>\n",
       "      <th>206</th>\n",
       "      <td>9.876</td>\n",
       "      <td>17.27</td>\n",
       "      <td>62.92</td>\n",
       "      <td>295.4</td>\n",
       "      <td>0.10890</td>\n",
       "      <td>0.07232</td>\n",
       "      <td>0.01756</td>\n",
       "      <td>0.01952</td>\n",
       "      <td>0.1934</td>\n",
       "      <td>0.06285</td>\n",
       "      <td>...</td>\n",
       "      <td>10.42</td>\n",
       "      <td>23.22</td>\n",
       "      <td>67.08</td>\n",
       "      <td>331.6</td>\n",
       "      <td>0.1415</td>\n",
       "      <td>0.1247</td>\n",
       "      <td>0.06213</td>\n",
       "      <td>0.05588</td>\n",
       "      <td>0.2989</td>\n",
       "      <td>0.07380</td>\n",
       "    </tr>\n",
       "    <tr>\n",
       "      <th>207</th>\n",
       "      <td>17.010</td>\n",
       "      <td>20.26</td>\n",
       "      <td>109.70</td>\n",
       "      <td>904.3</td>\n",
       "      <td>0.08772</td>\n",
       "      <td>0.07304</td>\n",
       "      <td>0.06950</td>\n",
       "      <td>0.05390</td>\n",
       "      <td>0.2026</td>\n",
       "      <td>0.05223</td>\n",
       "      <td>...</td>\n",
       "      <td>19.80</td>\n",
       "      <td>25.05</td>\n",
       "      <td>130.00</td>\n",
       "      <td>1210.0</td>\n",
       "      <td>0.1111</td>\n",
       "      <td>0.1486</td>\n",
       "      <td>0.19320</td>\n",
       "      <td>0.10960</td>\n",
       "      <td>0.3275</td>\n",
       "      <td>0.06469</td>\n",
       "    </tr>\n",
       "    <tr>\n",
       "      <th>208</th>\n",
       "      <td>13.110</td>\n",
       "      <td>22.54</td>\n",
       "      <td>87.02</td>\n",
       "      <td>529.4</td>\n",
       "      <td>0.10020</td>\n",
       "      <td>0.14830</td>\n",
       "      <td>0.08705</td>\n",
       "      <td>0.05102</td>\n",
       "      <td>0.1850</td>\n",
       "      <td>0.07310</td>\n",
       "      <td>...</td>\n",
       "      <td>14.55</td>\n",
       "      <td>29.16</td>\n",
       "      <td>99.48</td>\n",
       "      <td>639.3</td>\n",
       "      <td>0.1349</td>\n",
       "      <td>0.4402</td>\n",
       "      <td>0.31620</td>\n",
       "      <td>0.11260</td>\n",
       "      <td>0.4128</td>\n",
       "      <td>0.10760</td>\n",
       "    </tr>\n",
       "    <tr>\n",
       "      <th>209</th>\n",
       "      <td>15.270</td>\n",
       "      <td>12.91</td>\n",
       "      <td>98.17</td>\n",
       "      <td>725.5</td>\n",
       "      <td>0.08182</td>\n",
       "      <td>0.06230</td>\n",
       "      <td>0.05892</td>\n",
       "      <td>0.03157</td>\n",
       "      <td>0.1359</td>\n",
       "      <td>0.05526</td>\n",
       "      <td>...</td>\n",
       "      <td>17.38</td>\n",
       "      <td>15.92</td>\n",
       "      <td>113.70</td>\n",
       "      <td>932.7</td>\n",
       "      <td>0.1222</td>\n",
       "      <td>0.2186</td>\n",
       "      <td>0.29620</td>\n",
       "      <td>0.10350</td>\n",
       "      <td>0.2320</td>\n",
       "      <td>0.07474</td>\n",
       "    </tr>\n",
       "  </tbody>\n",
       "</table>\n",
       "<p>5 rows × 30 columns</p>\n",
       "</div>"
      ],
      "text/plain": [
       "     radius_mean  texture_mean  perimeter_mean  area_mean  smoothness_mean  \\\n",
       "205       15.120         16.68           98.78      716.6          0.08876   \n",
       "206        9.876         17.27           62.92      295.4          0.10890   \n",
       "207       17.010         20.26          109.70      904.3          0.08772   \n",
       "208       13.110         22.54           87.02      529.4          0.10020   \n",
       "209       15.270         12.91           98.17      725.5          0.08182   \n",
       "\n",
       "     compactness_mean  concavity_mean  concave points_mean  symmetry_mean  \\\n",
       "205           0.09588         0.07550              0.04079         0.1594   \n",
       "206           0.07232         0.01756              0.01952         0.1934   \n",
       "207           0.07304         0.06950              0.05390         0.2026   \n",
       "208           0.14830         0.08705              0.05102         0.1850   \n",
       "209           0.06230         0.05892              0.03157         0.1359   \n",
       "\n",
       "     fractal_dimension_mean  ...  radius_worst  texture_worst  \\\n",
       "205                 0.05986  ...         17.77          20.24   \n",
       "206                 0.06285  ...         10.42          23.22   \n",
       "207                 0.05223  ...         19.80          25.05   \n",
       "208                 0.07310  ...         14.55          29.16   \n",
       "209                 0.05526  ...         17.38          15.92   \n",
       "\n",
       "     perimeter_worst  area_worst  smoothness_worst  compactness_worst  \\\n",
       "205           117.70       989.5            0.1491             0.3331   \n",
       "206            67.08       331.6            0.1415             0.1247   \n",
       "207           130.00      1210.0            0.1111             0.1486   \n",
       "208            99.48       639.3            0.1349             0.4402   \n",
       "209           113.70       932.7            0.1222             0.2186   \n",
       "\n",
       "     concavity_worst  concave points_worst  symmetry_worst  \\\n",
       "205          0.33270               0.12520          0.3415   \n",
       "206          0.06213               0.05588          0.2989   \n",
       "207          0.19320               0.10960          0.3275   \n",
       "208          0.31620               0.11260          0.4128   \n",
       "209          0.29620               0.10350          0.2320   \n",
       "\n",
       "     fractal_dimension_worst  \n",
       "205                  0.09740  \n",
       "206                  0.07380  \n",
       "207                  0.06469  \n",
       "208                  0.10760  \n",
       "209                  0.07474  \n",
       "\n",
       "[5 rows x 30 columns]"
      ]
     },
     "execution_count": 883,
     "metadata": {},
     "output_type": "execute_result"
    }
   ],
   "source": [
    "#Your code here!\n",
    "#X_train.reset_index(drop=True, inplace=True)\n",
    "X_test.head()"
   ]
  },
  {
   "cell_type": "markdown",
   "metadata": {},
   "source": [
    "Perform any last checks to ensure the datasets are formatted as expected below. Once you are satisfied, cast the datasets to 2D Numpy arrays:"
   ]
  },
  {
   "cell_type": "code",
   "execution_count": 884,
   "metadata": {},
   "outputs": [],
   "source": [
    "#Your code here!\n",
    "X_train = np.array(X_train)\n",
    "X_test = np.array(X_test)\n",
    "Y_train = np.array(Y_train)\n",
    "Y_test = np.array(Y_test)\n"
   ]
  },
  {
   "cell_type": "markdown",
   "metadata": {},
   "source": [
    "Train the SVM on the dataset. Use all of the remaining features in X. This will produce a high dimensional model which cannot be plotted."
   ]
  },
  {
   "cell_type": "code",
   "execution_count": 885,
   "metadata": {},
   "outputs": [],
   "source": [
    "#Your code here!\n",
    "w, b = train(X_train, y_train)\n",
    "#print(len(X_test))\n",
    "#print(len(w))\n",
    "y_predict = predict(np.transpose(X_test), w, b)\n",
    "#print(y_predict)\n",
    "#print(y_test)"
   ]
  },
  {
   "cell_type": "markdown",
   "metadata": {},
   "source": [
    "Using the learned weights and bias terms, compute the accuracy for the trained model."
   ]
  },
  {
   "cell_type": "code",
   "execution_count": 886,
   "metadata": {
    "tags": []
   },
   "outputs": [
    {
     "name": "stdout",
     "output_type": "stream",
     "text": [
      "0.8161764705882353\n"
     ]
    }
   ],
   "source": [
    "#Your code here!\n",
    "accuracy = compute_accuracy(y_predict, y_test)\n",
    "print(accuracy)\n",
    "\n"
   ]
  },
  {
   "cell_type": "markdown",
   "metadata": {},
   "source": [
    " Based on this accuracy, do you believe the data to be mostly linearly separable? Why or why not?"
   ]
  },
  {
   "cell_type": "code",
   "execution_count": null,
   "metadata": {},
   "outputs": [],
   "source": [
    "#Yes, it is a good fit, the data can be \"linearly\"(in a high dimensional) separable.\n",
    "#Because we only use 60 percent to train the weight and bias,\n",
    "#if we use more data to train, we may have a accuracy greater than 81.6%,it means 81.6% percent can be separate correctly in our test\n",
    "# and that is a good number to predict if the condition is not that strict"
   ]
  }
 ],
 "metadata": {
  "kernelspec": {
   "display_name": "Python 3",
   "language": "python",
   "name": "python3"
  },
  "language_info": {
   "codemirror_mode": {
    "name": "ipython",
    "version": 3
   },
   "file_extension": ".py",
   "mimetype": "text/x-python",
   "name": "python",
   "nbconvert_exporter": "python",
   "pygments_lexer": "ipython3",
   "version": "3.8.3"
  }
 },
 "nbformat": 4,
 "nbformat_minor": 4
}
